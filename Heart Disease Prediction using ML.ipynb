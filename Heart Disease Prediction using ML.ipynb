{
 "cells": [
  {
   "cell_type": "code",
   "execution_count": 1,
   "id": "01c350a8",
   "metadata": {},
   "outputs": [
    {
     "name": "stdout",
     "output_type": "stream",
     "text": [
      "['.conda', '.condarc', '.continuum', '.dotnet', '.ipynb_checkpoints', '.ipython', '.jupyter', '.keras', '.matplotlib', '.ms-ad', '.vscode', '.vscode-cli', '1', 'Age and Gender Recognition using Caffe Model - Youtube.ipynb', 'anaconda3', 'AppData', 'Application Data', 'catboost_info', 'clahe_23.jpg', 'CLAHE_Filter_on_footprints (1).ipynb', 'CLAHE_Filter_on_footprints.ipynb', 'Contacts', 'Cookies', 'Desktop', 'Documents', 'Downloads', 'Facial Emotion Detection.ipynb', 'Fake_news_detection.ipynb', 'Favorites', 'FootprintsFilter', 'Footprints_CLAHE', 'Future Sales Prediction.ipynb', 'heart.csv', 'Heart_disease_prediction.ipynb', 'House Price Prediction using ML.ipynb', 'HousePricePrediction.xlsx', 'IntelGraphicsProfiles', 'l1.jpg', 'Links', 'Local Settings', 'Music', 'My Documents', 'Netflix Data Analysis using Data Science.ipynb', 'netflix1.csv', 'NetHood', 'NTUSER.DAT', 'ntuser.dat.LOG1', 'ntuser.dat.LOG2', 'NTUSER.DAT{a2332f18-cdbf-11ec-8680-002248483d79}.TM.blf', 'NTUSER.DAT{a2332f18-cdbf-11ec-8680-002248483d79}.TMContainer00000000000000000001.regtrans-ms', 'NTUSER.DAT{a2332f18-cdbf-11ec-8680-002248483d79}.TMContainer00000000000000000002.regtrans-ms', 'ntuser.ini', 'OneDrive', 'Pictures', 'PrintHood', 'Recent', 'ROI', 'Sales_Prediction_Starter.ipynb', 'Sample_prediction.ipynb', 'Saved Games', 'Searches', 'SendTo', 'simple_and_easy_aprroach_using_lstm.ipynb', 'Start Menu', 'Student Marks Prediction using Data Science.ipynb', 'student_info.csv', 'Student_Marks_Prediction_Model.pkl', 'Templates', 'Untitled.ipynb', 'Untitled1.ipynb', 'Videos']\n"
     ]
    }
   ],
   "source": [
    "import numpy as np\n",
    "import pandas as pd\n",
    "import matplotlib.pyplot as plt\n",
    "import seaborn as sns\n",
    "\n",
    "%matplotlib inline\n",
    "\n",
    "import os\n",
    "print(os.listdir())\n",
    "\n",
    "import warnings\n",
    "warnings.filterwarnings('ignore')"
   ]
  },
  {
   "cell_type": "code",
   "execution_count": 2,
   "id": "1f6e5990",
   "metadata": {},
   "outputs": [],
   "source": [
    "dataset = pd.read_csv(\"heart.csv\")"
   ]
  },
  {
   "cell_type": "code",
   "execution_count": 3,
   "id": "8ba9fe1d",
   "metadata": {},
   "outputs": [
    {
     "data": {
      "text/plain": [
       "pandas.core.frame.DataFrame"
      ]
     },
     "execution_count": 3,
     "metadata": {},
     "output_type": "execute_result"
    }
   ],
   "source": [
    "type(dataset)"
   ]
  },
  {
   "cell_type": "code",
   "execution_count": 4,
   "id": "a99693fc",
   "metadata": {},
   "outputs": [
    {
     "data": {
      "text/plain": [
       "(303, 14)"
      ]
     },
     "execution_count": 4,
     "metadata": {},
     "output_type": "execute_result"
    }
   ],
   "source": [
    "dataset.shape"
   ]
  },
  {
   "cell_type": "code",
   "execution_count": 5,
   "id": "c2e0c758",
   "metadata": {},
   "outputs": [
    {
     "data": {
      "text/html": [
       "<div>\n",
       "<style scoped>\n",
       "    .dataframe tbody tr th:only-of-type {\n",
       "        vertical-align: middle;\n",
       "    }\n",
       "\n",
       "    .dataframe tbody tr th {\n",
       "        vertical-align: top;\n",
       "    }\n",
       "\n",
       "    .dataframe thead th {\n",
       "        text-align: right;\n",
       "    }\n",
       "</style>\n",
       "<table border=\"1\" class=\"dataframe\">\n",
       "  <thead>\n",
       "    <tr style=\"text-align: right;\">\n",
       "      <th></th>\n",
       "      <th>age</th>\n",
       "      <th>sex</th>\n",
       "      <th>cp</th>\n",
       "      <th>trestbps</th>\n",
       "      <th>chol</th>\n",
       "      <th>fbs</th>\n",
       "      <th>restecg</th>\n",
       "      <th>thalach</th>\n",
       "      <th>exang</th>\n",
       "      <th>oldpeak</th>\n",
       "      <th>slope</th>\n",
       "      <th>ca</th>\n",
       "      <th>thal</th>\n",
       "      <th>target</th>\n",
       "    </tr>\n",
       "  </thead>\n",
       "  <tbody>\n",
       "    <tr>\n",
       "      <th>0</th>\n",
       "      <td>63</td>\n",
       "      <td>1</td>\n",
       "      <td>3</td>\n",
       "      <td>145</td>\n",
       "      <td>233</td>\n",
       "      <td>1</td>\n",
       "      <td>0</td>\n",
       "      <td>150</td>\n",
       "      <td>0</td>\n",
       "      <td>2.3</td>\n",
       "      <td>0</td>\n",
       "      <td>0</td>\n",
       "      <td>1</td>\n",
       "      <td>1</td>\n",
       "    </tr>\n",
       "    <tr>\n",
       "      <th>1</th>\n",
       "      <td>37</td>\n",
       "      <td>1</td>\n",
       "      <td>2</td>\n",
       "      <td>130</td>\n",
       "      <td>250</td>\n",
       "      <td>0</td>\n",
       "      <td>1</td>\n",
       "      <td>187</td>\n",
       "      <td>0</td>\n",
       "      <td>3.5</td>\n",
       "      <td>0</td>\n",
       "      <td>0</td>\n",
       "      <td>2</td>\n",
       "      <td>1</td>\n",
       "    </tr>\n",
       "    <tr>\n",
       "      <th>2</th>\n",
       "      <td>41</td>\n",
       "      <td>0</td>\n",
       "      <td>1</td>\n",
       "      <td>130</td>\n",
       "      <td>204</td>\n",
       "      <td>0</td>\n",
       "      <td>0</td>\n",
       "      <td>172</td>\n",
       "      <td>0</td>\n",
       "      <td>1.4</td>\n",
       "      <td>2</td>\n",
       "      <td>0</td>\n",
       "      <td>2</td>\n",
       "      <td>1</td>\n",
       "    </tr>\n",
       "    <tr>\n",
       "      <th>3</th>\n",
       "      <td>56</td>\n",
       "      <td>1</td>\n",
       "      <td>1</td>\n",
       "      <td>120</td>\n",
       "      <td>236</td>\n",
       "      <td>0</td>\n",
       "      <td>1</td>\n",
       "      <td>178</td>\n",
       "      <td>0</td>\n",
       "      <td>0.8</td>\n",
       "      <td>2</td>\n",
       "      <td>0</td>\n",
       "      <td>2</td>\n",
       "      <td>1</td>\n",
       "    </tr>\n",
       "    <tr>\n",
       "      <th>4</th>\n",
       "      <td>57</td>\n",
       "      <td>0</td>\n",
       "      <td>0</td>\n",
       "      <td>120</td>\n",
       "      <td>354</td>\n",
       "      <td>0</td>\n",
       "      <td>1</td>\n",
       "      <td>163</td>\n",
       "      <td>1</td>\n",
       "      <td>0.6</td>\n",
       "      <td>2</td>\n",
       "      <td>0</td>\n",
       "      <td>2</td>\n",
       "      <td>1</td>\n",
       "    </tr>\n",
       "  </tbody>\n",
       "</table>\n",
       "</div>"
      ],
      "text/plain": [
       "   age  sex  cp  trestbps  chol  fbs  restecg  thalach  exang  oldpeak  slope  \\\n",
       "0   63    1   3       145   233    1        0      150      0      2.3      0   \n",
       "1   37    1   2       130   250    0        1      187      0      3.5      0   \n",
       "2   41    0   1       130   204    0        0      172      0      1.4      2   \n",
       "3   56    1   1       120   236    0        1      178      0      0.8      2   \n",
       "4   57    0   0       120   354    0        1      163      1      0.6      2   \n",
       "\n",
       "   ca  thal  target  \n",
       "0   0     1       1  \n",
       "1   0     2       1  \n",
       "2   0     2       1  \n",
       "3   0     2       1  \n",
       "4   0     2       1  "
      ]
     },
     "execution_count": 5,
     "metadata": {},
     "output_type": "execute_result"
    }
   ],
   "source": [
    "dataset.head(5)"
   ]
  },
  {
   "cell_type": "code",
   "execution_count": 6,
   "id": "eb2936dc",
   "metadata": {},
   "outputs": [
    {
     "data": {
      "text/html": [
       "<div>\n",
       "<style scoped>\n",
       "    .dataframe tbody tr th:only-of-type {\n",
       "        vertical-align: middle;\n",
       "    }\n",
       "\n",
       "    .dataframe tbody tr th {\n",
       "        vertical-align: top;\n",
       "    }\n",
       "\n",
       "    .dataframe thead th {\n",
       "        text-align: right;\n",
       "    }\n",
       "</style>\n",
       "<table border=\"1\" class=\"dataframe\">\n",
       "  <thead>\n",
       "    <tr style=\"text-align: right;\">\n",
       "      <th></th>\n",
       "      <th>age</th>\n",
       "      <th>sex</th>\n",
       "      <th>cp</th>\n",
       "      <th>trestbps</th>\n",
       "      <th>chol</th>\n",
       "      <th>fbs</th>\n",
       "      <th>restecg</th>\n",
       "      <th>thalach</th>\n",
       "      <th>exang</th>\n",
       "      <th>oldpeak</th>\n",
       "      <th>slope</th>\n",
       "      <th>ca</th>\n",
       "      <th>thal</th>\n",
       "      <th>target</th>\n",
       "    </tr>\n",
       "  </thead>\n",
       "  <tbody>\n",
       "    <tr>\n",
       "      <th>28</th>\n",
       "      <td>65</td>\n",
       "      <td>0</td>\n",
       "      <td>2</td>\n",
       "      <td>140</td>\n",
       "      <td>417</td>\n",
       "      <td>1</td>\n",
       "      <td>0</td>\n",
       "      <td>157</td>\n",
       "      <td>0</td>\n",
       "      <td>0.8</td>\n",
       "      <td>2</td>\n",
       "      <td>1</td>\n",
       "      <td>2</td>\n",
       "      <td>1</td>\n",
       "    </tr>\n",
       "    <tr>\n",
       "      <th>58</th>\n",
       "      <td>34</td>\n",
       "      <td>1</td>\n",
       "      <td>3</td>\n",
       "      <td>118</td>\n",
       "      <td>182</td>\n",
       "      <td>0</td>\n",
       "      <td>0</td>\n",
       "      <td>174</td>\n",
       "      <td>0</td>\n",
       "      <td>0.0</td>\n",
       "      <td>2</td>\n",
       "      <td>0</td>\n",
       "      <td>2</td>\n",
       "      <td>1</td>\n",
       "    </tr>\n",
       "    <tr>\n",
       "      <th>164</th>\n",
       "      <td>38</td>\n",
       "      <td>1</td>\n",
       "      <td>2</td>\n",
       "      <td>138</td>\n",
       "      <td>175</td>\n",
       "      <td>0</td>\n",
       "      <td>1</td>\n",
       "      <td>173</td>\n",
       "      <td>0</td>\n",
       "      <td>0.0</td>\n",
       "      <td>2</td>\n",
       "      <td>4</td>\n",
       "      <td>2</td>\n",
       "      <td>1</td>\n",
       "    </tr>\n",
       "    <tr>\n",
       "      <th>48</th>\n",
       "      <td>53</td>\n",
       "      <td>0</td>\n",
       "      <td>2</td>\n",
       "      <td>128</td>\n",
       "      <td>216</td>\n",
       "      <td>0</td>\n",
       "      <td>0</td>\n",
       "      <td>115</td>\n",
       "      <td>0</td>\n",
       "      <td>0.0</td>\n",
       "      <td>2</td>\n",
       "      <td>0</td>\n",
       "      <td>0</td>\n",
       "      <td>1</td>\n",
       "    </tr>\n",
       "    <tr>\n",
       "      <th>84</th>\n",
       "      <td>42</td>\n",
       "      <td>0</td>\n",
       "      <td>0</td>\n",
       "      <td>102</td>\n",
       "      <td>265</td>\n",
       "      <td>0</td>\n",
       "      <td>0</td>\n",
       "      <td>122</td>\n",
       "      <td>0</td>\n",
       "      <td>0.6</td>\n",
       "      <td>1</td>\n",
       "      <td>0</td>\n",
       "      <td>2</td>\n",
       "      <td>1</td>\n",
       "    </tr>\n",
       "  </tbody>\n",
       "</table>\n",
       "</div>"
      ],
      "text/plain": [
       "     age  sex  cp  trestbps  chol  fbs  restecg  thalach  exang  oldpeak  \\\n",
       "28    65    0   2       140   417    1        0      157      0      0.8   \n",
       "58    34    1   3       118   182    0        0      174      0      0.0   \n",
       "164   38    1   2       138   175    0        1      173      0      0.0   \n",
       "48    53    0   2       128   216    0        0      115      0      0.0   \n",
       "84    42    0   0       102   265    0        0      122      0      0.6   \n",
       "\n",
       "     slope  ca  thal  target  \n",
       "28       2   1     2       1  \n",
       "58       2   0     2       1  \n",
       "164      2   4     2       1  \n",
       "48       2   0     0       1  \n",
       "84       1   0     2       1  "
      ]
     },
     "execution_count": 6,
     "metadata": {},
     "output_type": "execute_result"
    }
   ],
   "source": [
    "dataset.sample(5)"
   ]
  },
  {
   "cell_type": "code",
   "execution_count": 7,
   "id": "64351a6e",
   "metadata": {},
   "outputs": [
    {
     "data": {
      "text/html": [
       "<div>\n",
       "<style scoped>\n",
       "    .dataframe tbody tr th:only-of-type {\n",
       "        vertical-align: middle;\n",
       "    }\n",
       "\n",
       "    .dataframe tbody tr th {\n",
       "        vertical-align: top;\n",
       "    }\n",
       "\n",
       "    .dataframe thead th {\n",
       "        text-align: right;\n",
       "    }\n",
       "</style>\n",
       "<table border=\"1\" class=\"dataframe\">\n",
       "  <thead>\n",
       "    <tr style=\"text-align: right;\">\n",
       "      <th></th>\n",
       "      <th>age</th>\n",
       "      <th>sex</th>\n",
       "      <th>cp</th>\n",
       "      <th>trestbps</th>\n",
       "      <th>chol</th>\n",
       "      <th>fbs</th>\n",
       "      <th>restecg</th>\n",
       "      <th>thalach</th>\n",
       "      <th>exang</th>\n",
       "      <th>oldpeak</th>\n",
       "      <th>slope</th>\n",
       "      <th>ca</th>\n",
       "      <th>thal</th>\n",
       "      <th>target</th>\n",
       "    </tr>\n",
       "  </thead>\n",
       "  <tbody>\n",
       "    <tr>\n",
       "      <th>count</th>\n",
       "      <td>303.000000</td>\n",
       "      <td>303.000000</td>\n",
       "      <td>303.000000</td>\n",
       "      <td>303.000000</td>\n",
       "      <td>303.000000</td>\n",
       "      <td>303.000000</td>\n",
       "      <td>303.000000</td>\n",
       "      <td>303.000000</td>\n",
       "      <td>303.000000</td>\n",
       "      <td>303.000000</td>\n",
       "      <td>303.000000</td>\n",
       "      <td>303.000000</td>\n",
       "      <td>303.000000</td>\n",
       "      <td>303.000000</td>\n",
       "    </tr>\n",
       "    <tr>\n",
       "      <th>mean</th>\n",
       "      <td>54.366337</td>\n",
       "      <td>0.683168</td>\n",
       "      <td>0.966997</td>\n",
       "      <td>131.623762</td>\n",
       "      <td>246.264026</td>\n",
       "      <td>0.148515</td>\n",
       "      <td>0.528053</td>\n",
       "      <td>149.646865</td>\n",
       "      <td>0.326733</td>\n",
       "      <td>1.039604</td>\n",
       "      <td>1.399340</td>\n",
       "      <td>0.729373</td>\n",
       "      <td>2.313531</td>\n",
       "      <td>0.544554</td>\n",
       "    </tr>\n",
       "    <tr>\n",
       "      <th>std</th>\n",
       "      <td>9.082101</td>\n",
       "      <td>0.466011</td>\n",
       "      <td>1.032052</td>\n",
       "      <td>17.538143</td>\n",
       "      <td>51.830751</td>\n",
       "      <td>0.356198</td>\n",
       "      <td>0.525860</td>\n",
       "      <td>22.905161</td>\n",
       "      <td>0.469794</td>\n",
       "      <td>1.161075</td>\n",
       "      <td>0.616226</td>\n",
       "      <td>1.022606</td>\n",
       "      <td>0.612277</td>\n",
       "      <td>0.498835</td>\n",
       "    </tr>\n",
       "    <tr>\n",
       "      <th>min</th>\n",
       "      <td>29.000000</td>\n",
       "      <td>0.000000</td>\n",
       "      <td>0.000000</td>\n",
       "      <td>94.000000</td>\n",
       "      <td>126.000000</td>\n",
       "      <td>0.000000</td>\n",
       "      <td>0.000000</td>\n",
       "      <td>71.000000</td>\n",
       "      <td>0.000000</td>\n",
       "      <td>0.000000</td>\n",
       "      <td>0.000000</td>\n",
       "      <td>0.000000</td>\n",
       "      <td>0.000000</td>\n",
       "      <td>0.000000</td>\n",
       "    </tr>\n",
       "    <tr>\n",
       "      <th>25%</th>\n",
       "      <td>47.500000</td>\n",
       "      <td>0.000000</td>\n",
       "      <td>0.000000</td>\n",
       "      <td>120.000000</td>\n",
       "      <td>211.000000</td>\n",
       "      <td>0.000000</td>\n",
       "      <td>0.000000</td>\n",
       "      <td>133.500000</td>\n",
       "      <td>0.000000</td>\n",
       "      <td>0.000000</td>\n",
       "      <td>1.000000</td>\n",
       "      <td>0.000000</td>\n",
       "      <td>2.000000</td>\n",
       "      <td>0.000000</td>\n",
       "    </tr>\n",
       "    <tr>\n",
       "      <th>50%</th>\n",
       "      <td>55.000000</td>\n",
       "      <td>1.000000</td>\n",
       "      <td>1.000000</td>\n",
       "      <td>130.000000</td>\n",
       "      <td>240.000000</td>\n",
       "      <td>0.000000</td>\n",
       "      <td>1.000000</td>\n",
       "      <td>153.000000</td>\n",
       "      <td>0.000000</td>\n",
       "      <td>0.800000</td>\n",
       "      <td>1.000000</td>\n",
       "      <td>0.000000</td>\n",
       "      <td>2.000000</td>\n",
       "      <td>1.000000</td>\n",
       "    </tr>\n",
       "    <tr>\n",
       "      <th>75%</th>\n",
       "      <td>61.000000</td>\n",
       "      <td>1.000000</td>\n",
       "      <td>2.000000</td>\n",
       "      <td>140.000000</td>\n",
       "      <td>274.500000</td>\n",
       "      <td>0.000000</td>\n",
       "      <td>1.000000</td>\n",
       "      <td>166.000000</td>\n",
       "      <td>1.000000</td>\n",
       "      <td>1.600000</td>\n",
       "      <td>2.000000</td>\n",
       "      <td>1.000000</td>\n",
       "      <td>3.000000</td>\n",
       "      <td>1.000000</td>\n",
       "    </tr>\n",
       "    <tr>\n",
       "      <th>max</th>\n",
       "      <td>77.000000</td>\n",
       "      <td>1.000000</td>\n",
       "      <td>3.000000</td>\n",
       "      <td>200.000000</td>\n",
       "      <td>564.000000</td>\n",
       "      <td>1.000000</td>\n",
       "      <td>2.000000</td>\n",
       "      <td>202.000000</td>\n",
       "      <td>1.000000</td>\n",
       "      <td>6.200000</td>\n",
       "      <td>2.000000</td>\n",
       "      <td>4.000000</td>\n",
       "      <td>3.000000</td>\n",
       "      <td>1.000000</td>\n",
       "    </tr>\n",
       "  </tbody>\n",
       "</table>\n",
       "</div>"
      ],
      "text/plain": [
       "              age         sex          cp    trestbps        chol         fbs  \\\n",
       "count  303.000000  303.000000  303.000000  303.000000  303.000000  303.000000   \n",
       "mean    54.366337    0.683168    0.966997  131.623762  246.264026    0.148515   \n",
       "std      9.082101    0.466011    1.032052   17.538143   51.830751    0.356198   \n",
       "min     29.000000    0.000000    0.000000   94.000000  126.000000    0.000000   \n",
       "25%     47.500000    0.000000    0.000000  120.000000  211.000000    0.000000   \n",
       "50%     55.000000    1.000000    1.000000  130.000000  240.000000    0.000000   \n",
       "75%     61.000000    1.000000    2.000000  140.000000  274.500000    0.000000   \n",
       "max     77.000000    1.000000    3.000000  200.000000  564.000000    1.000000   \n",
       "\n",
       "          restecg     thalach       exang     oldpeak       slope          ca  \\\n",
       "count  303.000000  303.000000  303.000000  303.000000  303.000000  303.000000   \n",
       "mean     0.528053  149.646865    0.326733    1.039604    1.399340    0.729373   \n",
       "std      0.525860   22.905161    0.469794    1.161075    0.616226    1.022606   \n",
       "min      0.000000   71.000000    0.000000    0.000000    0.000000    0.000000   \n",
       "25%      0.000000  133.500000    0.000000    0.000000    1.000000    0.000000   \n",
       "50%      1.000000  153.000000    0.000000    0.800000    1.000000    0.000000   \n",
       "75%      1.000000  166.000000    1.000000    1.600000    2.000000    1.000000   \n",
       "max      2.000000  202.000000    1.000000    6.200000    2.000000    4.000000   \n",
       "\n",
       "             thal      target  \n",
       "count  303.000000  303.000000  \n",
       "mean     2.313531    0.544554  \n",
       "std      0.612277    0.498835  \n",
       "min      0.000000    0.000000  \n",
       "25%      2.000000    0.000000  \n",
       "50%      2.000000    1.000000  \n",
       "75%      3.000000    1.000000  \n",
       "max      3.000000    1.000000  "
      ]
     },
     "execution_count": 7,
     "metadata": {},
     "output_type": "execute_result"
    }
   ],
   "source": [
    "dataset.describe()"
   ]
  },
  {
   "cell_type": "code",
   "execution_count": 8,
   "id": "0184e20e",
   "metadata": {},
   "outputs": [
    {
     "name": "stdout",
     "output_type": "stream",
     "text": [
      "<class 'pandas.core.frame.DataFrame'>\n",
      "RangeIndex: 303 entries, 0 to 302\n",
      "Data columns (total 14 columns):\n",
      " #   Column    Non-Null Count  Dtype  \n",
      "---  ------    --------------  -----  \n",
      " 0   age       303 non-null    int64  \n",
      " 1   sex       303 non-null    int64  \n",
      " 2   cp        303 non-null    int64  \n",
      " 3   trestbps  303 non-null    int64  \n",
      " 4   chol      303 non-null    int64  \n",
      " 5   fbs       303 non-null    int64  \n",
      " 6   restecg   303 non-null    int64  \n",
      " 7   thalach   303 non-null    int64  \n",
      " 8   exang     303 non-null    int64  \n",
      " 9   oldpeak   303 non-null    float64\n",
      " 10  slope     303 non-null    int64  \n",
      " 11  ca        303 non-null    int64  \n",
      " 12  thal      303 non-null    int64  \n",
      " 13  target    303 non-null    int64  \n",
      "dtypes: float64(1), int64(13)\n",
      "memory usage: 33.3 KB\n"
     ]
    }
   ],
   "source": [
    "dataset.info()"
   ]
  },
  {
   "cell_type": "code",
   "execution_count": 9,
   "id": "5427a22c",
   "metadata": {},
   "outputs": [
    {
     "name": "stdout",
     "output_type": "stream",
     "text": [
      "age:\t\t\tage\n",
      "sex:\t\t\t1: male, 0: female\n",
      "cp:\t\t\tchest pain type, 1: typical angina, 2: atypical angina, 3: non-anginal pain, 4: asymptomatic\n",
      "trestbps:\t\t\tresting blood pressure\n",
      "chol:\t\t\t serum cholestoral in mg/dl\n",
      "fbs:\t\t\tfasting blood sugar > 120 mg/dl\n",
      "restecg:\t\t\tresting electrocardiographic results (values 0,1,2)\n",
      "thalach:\t\t\t maximum heart rate achieved\n",
      "exang:\t\t\texercise induced angina\n",
      "oldpeak:\t\t\toldpeak = ST depression induced by exercise relative to rest\n",
      "slope:\t\t\tthe slope of the peak exercise ST segment\n",
      "ca:\t\t\tnumber of major vessels (0-3) colored by flourosopy\n",
      "thal:\t\t\tthal: 3 = normal; 6 = fixed defect; 7 = reversable defect\n"
     ]
    }
   ],
   "source": [
    "info = [\"age\",\"1: male, 0: female\",\"chest pain type, 1: typical angina, 2: atypical angina, 3: non-anginal pain, 4: asymptomatic\",\"resting blood pressure\",\" serum cholestoral in mg/dl\",\"fasting blood sugar > 120 mg/dl\",\"resting electrocardiographic results (values 0,1,2)\",\" maximum heart rate achieved\",\"exercise induced angina\",\"oldpeak = ST depression induced by exercise relative to rest\",\"the slope of the peak exercise ST segment\",\"number of major vessels (0-3) colored by flourosopy\",\"thal: 3 = normal; 6 = fixed defect; 7 = reversable defect\"]\n",
    "\n",
    "\n",
    "\n",
    "for i in range(len(info)):\n",
    "    print(dataset.columns[i]+\":\\t\\t\\t\"+info[i])"
   ]
  },
  {
   "cell_type": "code",
   "execution_count": 10,
   "id": "d7ee0a2a",
   "metadata": {},
   "outputs": [
    {
     "data": {
      "text/plain": [
       "count    303.000000\n",
       "mean       0.544554\n",
       "std        0.498835\n",
       "min        0.000000\n",
       "25%        0.000000\n",
       "50%        1.000000\n",
       "75%        1.000000\n",
       "max        1.000000\n",
       "Name: target, dtype: float64"
      ]
     },
     "execution_count": 10,
     "metadata": {},
     "output_type": "execute_result"
    }
   ],
   "source": [
    "dataset[\"target\"].describe()"
   ]
  },
  {
   "cell_type": "code",
   "execution_count": 11,
   "id": "72bf78cf",
   "metadata": {},
   "outputs": [
    {
     "data": {
      "text/plain": [
       "array([1, 0], dtype=int64)"
      ]
     },
     "execution_count": 11,
     "metadata": {},
     "output_type": "execute_result"
    }
   ],
   "source": [
    "dataset[\"target\"].unique()"
   ]
  },
  {
   "cell_type": "code",
   "execution_count": 12,
   "id": "71bb09c3",
   "metadata": {},
   "outputs": [
    {
     "name": "stdout",
     "output_type": "stream",
     "text": [
      "target      1.000000\n",
      "exang       0.436757\n",
      "cp          0.433798\n",
      "oldpeak     0.430696\n",
      "thalach     0.421741\n",
      "ca          0.391724\n",
      "slope       0.345877\n",
      "thal        0.344029\n",
      "sex         0.280937\n",
      "age         0.225439\n",
      "trestbps    0.144931\n",
      "restecg     0.137230\n",
      "chol        0.085239\n",
      "fbs         0.028046\n",
      "Name: target, dtype: float64\n"
     ]
    }
   ],
   "source": [
    "print(dataset.corr()[\"target\"].abs().sort_values(ascending=False))"
   ]
  },
  {
   "cell_type": "code",
   "execution_count": 13,
   "id": "90a690f6",
   "metadata": {},
   "outputs": [
    {
     "name": "stdout",
     "output_type": "stream",
     "text": [
      "1    165\n",
      "0    138\n",
      "Name: target, dtype: int64\n"
     ]
    },
    {
     "data": {
      "image/png": "[encoded data removed]",
      "text/plain": [
       "<Figure size 640x480 with 1 Axes>"
      ]
     },
     "metadata": {},
     "output_type": "display_data"
    }
   ],
   "source": [
    "y = dataset[\"target\"]\n",
    "\n",
    "sns.countplot(y)\n",
    "\n",
    "\n",
    "target_temp = dataset.target.value_counts()\n",
    "\n",
    "print(target_temp)"
   ]
  },
  {
   "cell_type": "code",
   "execution_count": 14,
   "id": "c914f4c7",
   "metadata": {},
   "outputs": [
    {
     "name": "stdout",
     "output_type": "stream",
     "text": [
      "Percentage of patience without heart problems: 45.54\n",
      "Percentage of patience with heart problems: 54.46\n"
     ]
    }
   ],
   "source": [
    "print(\"Percentage of patience without heart problems: \"+str(round(target_temp[0]*100/303,2)))\n",
    "print(\"Percentage of patience with heart problems: \"+str(round(target_temp[1]*100/303,2)))\n",
    "\n",
    "#Alternatively,\n",
    "# print(\"Percentage of patience with heart problems: \"+str(y.where(y==1).count()*100/303))\n",
    "# print(\"Percentage of patience with heart problems: \"+str(y.where(y==0).count()*100/303))\n",
    "\n",
    "# #Or,\n",
    "# countNoDisease = len(df[df.target == 0])\n",
    "# countHaveDisease = len(df[df.target == 1])"
   ]
  },
  {
   "cell_type": "code",
   "execution_count": 15,
   "id": "390897c9",
   "metadata": {},
   "outputs": [
    {
     "data": {
      "text/plain": [
       "array([1, 0], dtype=int64)"
      ]
     },
     "execution_count": 15,
     "metadata": {},
     "output_type": "execute_result"
    }
   ],
   "source": [
    "dataset[\"sex\"].unique()"
   ]
  },
  {
   "cell_type": "code",
   "execution_count": 16,
   "id": "335ae334",
   "metadata": {},
   "outputs": [
    {
     "data": {
      "text/plain": [
       "<AxesSubplot:xlabel='sex', ylabel='target'>"
      ]
     },
     "execution_count": 16,
     "metadata": {},
     "output_type": "execute_result"
    },
    {
     "data": {
      "image/png": "[encoded data removed]",
      "text/plain": [
       "<Figure size 640x480 with 1 Axes>"
      ]
     },
     "metadata": {},
     "output_type": "display_data"
    }
   ],
   "source": [
    "sns.barplot(dataset[\"sex\"],y)"
   ]
  },
  {
   "cell_type": "code",
   "execution_count": 17,
   "id": "e758e4b8",
   "metadata": {},
   "outputs": [
    {
     "data": {
      "text/plain": [
       "array([3, 2, 1, 0], dtype=int64)"
      ]
     },
     "execution_count": 17,
     "metadata": {},
     "output_type": "execute_result"
    }
   ],
   "source": [
    "dataset[\"cp\"].unique()\n"
   ]
  },
  {
   "cell_type": "code",
   "execution_count": 18,
   "id": "db56f910",
   "metadata": {},
   "outputs": [
    {
     "data": {
      "text/plain": [
       "<AxesSubplot:xlabel='cp', ylabel='target'>"
      ]
     },
     "execution_count": 18,
     "metadata": {},
     "output_type": "execute_result"
    },
    {
     "data": {
      "image/png": "[encoded data removed]",
      "text/plain": [
       "<Figure size 640x480 with 1 Axes>"
      ]
     },
     "metadata": {},
     "output_type": "display_data"
    }
   ],
   "source": [
    "sns.barplot(dataset[\"cp\"],y)\n"
   ]
  },
  {
   "cell_type": "code",
   "execution_count": 19,
   "id": "245ba065",
   "metadata": {},
   "outputs": [
    {
     "data": {
      "text/plain": [
       "count    303.000000\n",
       "mean       0.148515\n",
       "std        0.356198\n",
       "min        0.000000\n",
       "25%        0.000000\n",
       "50%        0.000000\n",
       "75%        0.000000\n",
       "max        1.000000\n",
       "Name: fbs, dtype: float64"
      ]
     },
     "execution_count": 19,
     "metadata": {},
     "output_type": "execute_result"
    }
   ],
   "source": [
    "dataset[\"fbs\"].describe()\n"
   ]
  },
  {
   "cell_type": "code",
   "execution_count": 20,
   "id": "a9cca9bc",
   "metadata": {},
   "outputs": [
    {
     "data": {
      "text/plain": [
       "array([1, 0], dtype=int64)"
      ]
     },
     "execution_count": 20,
     "metadata": {},
     "output_type": "execute_result"
    }
   ],
   "source": [
    "dataset[\"fbs\"].unique()\n"
   ]
  },
  {
   "cell_type": "code",
   "execution_count": 21,
   "id": "3c8d2db7",
   "metadata": {},
   "outputs": [
    {
     "data": {
      "text/plain": [
       "<AxesSubplot:xlabel='fbs', ylabel='target'>"
      ]
     },
     "execution_count": 21,
     "metadata": {},
     "output_type": "execute_result"
    },
    {
     "data": {
      "image/png": "[encoded data removed]",
      "text/plain": [
       "<Figure size 640x480 with 1 Axes>"
      ]
     },
     "metadata": {},
     "output_type": "display_data"
    }
   ],
   "source": [
    "sns.barplot(dataset[\"fbs\"],y)\n"
   ]
  },
  {
   "cell_type": "code",
   "execution_count": 22,
   "id": "525cf66f",
   "metadata": {},
   "outputs": [
    {
     "data": {
      "text/plain": [
       "array([0, 1, 2], dtype=int64)"
      ]
     },
     "execution_count": 22,
     "metadata": {},
     "output_type": "execute_result"
    }
   ],
   "source": [
    "dataset[\"restecg\"].unique()\n"
   ]
  },
  {
   "cell_type": "code",
   "execution_count": 23,
   "id": "0e87db27",
   "metadata": {},
   "outputs": [
    {
     "data": {
      "text/plain": [
       "<AxesSubplot:xlabel='restecg', ylabel='target'>"
      ]
     },
     "execution_count": 23,
     "metadata": {},
     "output_type": "execute_result"
    },
    {
     "data": {
      "image/png": "[encoded data removed]",
      "text/plain": [
       "<Figure size 640x480 with 1 Axes>"
      ]
     },
     "metadata": {},
     "output_type": "display_data"
    }
   ],
   "source": [
    "sns.barplot(dataset[\"restecg\"],y)\n"
   ]
  },
  {
   "cell_type": "code",
   "execution_count": 24,
   "id": "b6b4a8dc",
   "metadata": {},
   "outputs": [
    {
     "data": {
      "text/plain": [
       "array([0, 1], dtype=int64)"
      ]
     },
     "execution_count": 24,
     "metadata": {},
     "output_type": "execute_result"
    }
   ],
   "source": [
    "dataset[\"exang\"].unique()"
   ]
  },
  {
   "cell_type": "code",
   "execution_count": 25,
   "id": "9f5d3f56",
   "metadata": {},
   "outputs": [
    {
     "data": {
      "text/plain": [
       "<AxesSubplot:xlabel='exang', ylabel='target'>"
      ]
     },
     "execution_count": 25,
     "metadata": {},
     "output_type": "execute_result"
    },
    {
     "data": {
      "image/png": "[encoded data removed]",
      "text/plain": [
       "<Figure size 640x480 with 1 Axes>"
      ]
     },
     "metadata": {},
     "output_type": "display_data"
    }
   ],
   "source": [
    "sns.barplot(dataset[\"exang\"],y)\n"
   ]
  },
  {
   "cell_type": "code",
   "execution_count": 26,
   "id": "74615a66",
   "metadata": {},
   "outputs": [
    {
     "data": {
      "text/plain": [
       "array([0, 2, 1], dtype=int64)"
      ]
     },
     "execution_count": 26,
     "metadata": {},
     "output_type": "execute_result"
    }
   ],
   "source": [
    "dataset[\"slope\"].unique()\n"
   ]
  },
  {
   "cell_type": "code",
   "execution_count": 27,
   "id": "04af31c4",
   "metadata": {},
   "outputs": [
    {
     "data": {
      "text/plain": [
       "<AxesSubplot:xlabel='slope', ylabel='target'>"
      ]
     },
     "execution_count": 27,
     "metadata": {},
     "output_type": "execute_result"
    },
    {
     "data": {
      "image/png": "[encoded data removed]",
      "text/plain": [
       "<Figure size 640x480 with 1 Axes>"
      ]
     },
     "metadata": {},
     "output_type": "display_data"
    }
   ],
   "source": [
    "sns.barplot(dataset[\"slope\"],y)\n"
   ]
  },
  {
   "cell_type": "code",
   "execution_count": 28,
   "id": "ca4c19cd",
   "metadata": {},
   "outputs": [
    {
     "data": {
      "text/plain": [
       "array([0, 2, 1, 3, 4], dtype=int64)"
      ]
     },
     "execution_count": 28,
     "metadata": {},
     "output_type": "execute_result"
    }
   ],
   "source": [
    "dataset[\"ca\"].unique()\n"
   ]
  },
  {
   "cell_type": "code",
   "execution_count": 29,
   "id": "59ae021a",
   "metadata": {},
   "outputs": [
    {
     "data": {
      "text/plain": [
       "<AxesSubplot:xlabel='ca', ylabel='count'>"
      ]
     },
     "execution_count": 29,
     "metadata": {},
     "output_type": "execute_result"
    },
    {
     "data": {
      "image/png": "[encoded data removed]",
      "text/plain": [
       "<Figure size 640x480 with 1 Axes>"
      ]
     },
     "metadata": {},
     "output_type": "display_data"
    }
   ],
   "source": [
    "sns.countplot(dataset[\"ca\"])\n"
   ]
  },
  {
   "cell_type": "code",
   "execution_count": 30,
   "id": "a24e7ba1",
   "metadata": {},
   "outputs": [
    {
     "data": {
      "text/plain": [
       "<AxesSubplot:xlabel='ca', ylabel='target'>"
      ]
     },
     "execution_count": 30,
     "metadata": {},
     "output_type": "execute_result"
    },
    {
     "data": {
      "image/png": "[encoded data removed]",
      "text/plain": [
       "<Figure size 640x480 with 1 Axes>"
      ]
     },
     "metadata": {},
     "output_type": "display_data"
    }
   ],
   "source": [
    "sns.barplot(dataset[\"ca\"],y)\n"
   ]
  },
  {
   "cell_type": "code",
   "execution_count": 31,
   "id": "4f27234f",
   "metadata": {},
   "outputs": [
    {
     "data": {
      "text/plain": [
       "array([1, 2, 3, 0], dtype=int64)"
      ]
     },
     "execution_count": 31,
     "metadata": {},
     "output_type": "execute_result"
    }
   ],
   "source": [
    "dataset[\"thal\"].unique()\n"
   ]
  },
  {
   "cell_type": "code",
   "execution_count": 32,
   "id": "6861fc1e",
   "metadata": {},
   "outputs": [
    {
     "data": {
      "text/plain": [
       "<AxesSubplot:xlabel='thal', ylabel='target'>"
      ]
     },
     "execution_count": 32,
     "metadata": {},
     "output_type": "execute_result"
    },
    {
     "data": {
      "image/png": "[encoded data removed]",
      "text/plain": [
       "<Figure size 640x480 with 1 Axes>"
      ]
     },
     "metadata": {},
     "output_type": "display_data"
    }
   ],
   "source": [
    "sns.barplot(dataset[\"thal\"],y)\n"
   ]
  },
  {
   "cell_type": "code",
   "execution_count": 33,
   "id": "ba513da2",
   "metadata": {},
   "outputs": [
    {
     "data": {
      "text/plain": [
       "<AxesSubplot:xlabel='thal', ylabel='Density'>"
      ]
     },
     "execution_count": 33,
     "metadata": {},
     "output_type": "execute_result"
    },
    {
     "data": {
      "image/png": "[encoded data removed]",
      "text/plain": [
       "<Figure size 640x480 with 1 Axes>"
      ]
     },
     "metadata": {},
     "output_type": "display_data"
    }
   ],
   "source": [
    "sns.distplot(dataset[\"thal\"])\n"
   ]
  },
  {
   "cell_type": "code",
   "execution_count": 34,
   "id": "441ac47e",
   "metadata": {},
   "outputs": [],
   "source": [
    "from sklearn.model_selection import train_test_split\n",
    "\n",
    "predictors = dataset.drop(\"target\",axis=1)\n",
    "target = dataset[\"target\"]\n",
    "\n",
    "X_train,X_test,Y_train,Y_test = train_test_split(predictors,target,test_size=0.20,random_state=0)"
   ]
  },
  {
   "cell_type": "code",
   "execution_count": 35,
   "id": "a1654fc5",
   "metadata": {},
   "outputs": [
    {
     "data": {
      "text/plain": [
       "(242, 13)"
      ]
     },
     "execution_count": 35,
     "metadata": {},
     "output_type": "execute_result"
    }
   ],
   "source": [
    "X_train.shape\n"
   ]
  },
  {
   "cell_type": "code",
   "execution_count": 36,
   "id": "643b2b7f",
   "metadata": {},
   "outputs": [
    {
     "data": {
      "text/plain": [
       "(61, 13)"
      ]
     },
     "execution_count": 36,
     "metadata": {},
     "output_type": "execute_result"
    }
   ],
   "source": [
    "X_test.shape\n"
   ]
  },
  {
   "cell_type": "code",
   "execution_count": 37,
   "id": "356d29d6",
   "metadata": {},
   "outputs": [
    {
     "data": {
      "text/plain": [
       "(242,)"
      ]
     },
     "execution_count": 37,
     "metadata": {},
     "output_type": "execute_result"
    }
   ],
   "source": [
    "Y_train.shape\n"
   ]
  },
  {
   "cell_type": "code",
   "execution_count": 39,
   "id": "4a31861d",
   "metadata": {},
   "outputs": [
    {
     "data": {
      "text/plain": [
       "(61,)"
      ]
     },
     "execution_count": 39,
     "metadata": {},
     "output_type": "execute_result"
    }
   ],
   "source": [
    "Y_test.shape\n"
   ]
  },
  {
   "cell_type": "code",
   "execution_count": 40,
   "id": "915ff75b",
   "metadata": {},
   "outputs": [],
   "source": [
    "from sklearn.metrics import accuracy_score\n"
   ]
  },
  {
   "cell_type": "code",
   "execution_count": 41,
   "id": "78882e95",
   "metadata": {},
   "outputs": [],
   "source": [
    "from sklearn.linear_model import LogisticRegression\n",
    "\n",
    "lr = LogisticRegression()\n",
    "\n",
    "lr.fit(X_train,Y_train)\n",
    "\n",
    "Y_pred_lr = lr.predict(X_test)"
   ]
  },
  {
   "cell_type": "code",
   "execution_count": 42,
   "id": "599ebad2",
   "metadata": {},
   "outputs": [
    {
     "data": {
      "text/plain": [
       "(61,)"
      ]
     },
     "execution_count": 42,
     "metadata": {},
     "output_type": "execute_result"
    }
   ],
   "source": [
    "Y_pred_lr.shape"
   ]
  },
  {
   "cell_type": "code",
   "execution_count": 43,
   "id": "ad88f734",
   "metadata": {},
   "outputs": [
    {
     "name": "stdout",
     "output_type": "stream",
     "text": [
      "The accuracy score achieved using Logistic Regression is: 85.25 %\n"
     ]
    }
   ],
   "source": [
    "score_lr = round(accuracy_score(Y_pred_lr,Y_test)*100,2)\n",
    "\n",
    "print(\"The accuracy score achieved using Logistic Regression is: \"+str(score_lr)+\" %\")"
   ]
  },
  {
   "cell_type": "code",
   "execution_count": 44,
   "id": "911ac788",
   "metadata": {},
   "outputs": [],
   "source": [
    "from sklearn.naive_bayes import GaussianNB\n",
    "\n",
    "nb = GaussianNB()\n",
    "\n",
    "nb.fit(X_train,Y_train)\n",
    "\n",
    "Y_pred_nb = nb.predict(X_test)"
   ]
  },
  {
   "cell_type": "code",
   "execution_count": 45,
   "id": "e2acadf9",
   "metadata": {},
   "outputs": [
    {
     "data": {
      "text/plain": [
       "(61,)"
      ]
     },
     "execution_count": 45,
     "metadata": {},
     "output_type": "execute_result"
    }
   ],
   "source": [
    "Y_pred_nb.shape"
   ]
  },
  {
   "cell_type": "code",
   "execution_count": 46,
   "id": "17c2759f",
   "metadata": {},
   "outputs": [
    {
     "name": "stdout",
     "output_type": "stream",
     "text": [
      "The accuracy score achieved using Naive Bayes is: 85.25 %\n"
     ]
    }
   ],
   "source": [
    "score_nb = round(accuracy_score(Y_pred_nb,Y_test)*100,2)\n",
    "\n",
    "print(\"The accuracy score achieved using Naive Bayes is: \"+str(score_nb)+\" %\")"
   ]
  },
  {
   "cell_type": "code",
   "execution_count": 47,
   "id": "e1036e14",
   "metadata": {},
   "outputs": [],
   "source": [
    "from sklearn import svm\n",
    "\n",
    "sv = svm.SVC(kernel='linear')\n",
    "\n",
    "sv.fit(X_train, Y_train)\n",
    "\n",
    "Y_pred_svm = sv.predict(X_test)"
   ]
  },
  {
   "cell_type": "code",
   "execution_count": 48,
   "id": "717676c9",
   "metadata": {},
   "outputs": [
    {
     "data": {
      "text/plain": [
       "(61,)"
      ]
     },
     "execution_count": 48,
     "metadata": {},
     "output_type": "execute_result"
    }
   ],
   "source": [
    "Y_pred_svm.shape"
   ]
  },
  {
   "cell_type": "code",
   "execution_count": 49,
   "id": "42f9b761",
   "metadata": {},
   "outputs": [
    {
     "name": "stdout",
     "output_type": "stream",
     "text": [
      "The accuracy score achieved using Linear SVM is: 81.97 %\n"
     ]
    }
   ],
   "source": [
    "score_svm = round(accuracy_score(Y_pred_svm,Y_test)*100,2)\n",
    "\n",
    "print(\"The accuracy score achieved using Linear SVM is: \"+str(score_svm)+\" %\")"
   ]
  },
  {
   "cell_type": "code",
   "execution_count": 50,
   "id": "859cd28e",
   "metadata": {},
   "outputs": [],
   "source": [
    "from sklearn.neighbors import KNeighborsClassifier\n",
    "\n",
    "knn = KNeighborsClassifier(n_neighbors=7)\n",
    "knn.fit(X_train,Y_train)\n",
    "Y_pred_knn=knn.predict(X_test)"
   ]
  },
  {
   "cell_type": "code",
   "execution_count": 51,
   "id": "6815c420",
   "metadata": {},
   "outputs": [
    {
     "data": {
      "text/plain": [
       "(61,)"
      ]
     },
     "execution_count": 51,
     "metadata": {},
     "output_type": "execute_result"
    }
   ],
   "source": [
    "Y_pred_knn.shape"
   ]
  },
  {
   "cell_type": "code",
   "execution_count": 52,
   "id": "76e19ed3",
   "metadata": {},
   "outputs": [
    {
     "name": "stdout",
     "output_type": "stream",
     "text": [
      "The accuracy score achieved using KNN is: 67.21 %\n"
     ]
    }
   ],
   "source": [
    "score_knn = round(accuracy_score(Y_pred_knn,Y_test)*100,2)\n",
    "\n",
    "print(\"The accuracy score achieved using KNN is: \"+str(score_knn)+\" %\")"
   ]
  },
  {
   "cell_type": "code",
   "execution_count": 53,
   "id": "e58e522a",
   "metadata": {},
   "outputs": [],
   "source": [
    "from sklearn.tree import DecisionTreeClassifier\n",
    "\n",
    "max_accuracy = 0\n",
    "\n",
    "\n",
    "for x in range(200):\n",
    "    dt = DecisionTreeClassifier(random_state=x)\n",
    "    dt.fit(X_train,Y_train)\n",
    "    Y_pred_dt = dt.predict(X_test)\n",
    "    current_accuracy = round(accuracy_score(Y_pred_dt,Y_test)*100,2)\n",
    "    if(current_accuracy>max_accuracy):\n",
    "        max_accuracy = current_accuracy\n",
    "        best_x = x\n",
    "        \n",
    "#print(max_accuracy)\n",
    "#print(best_x)\n",
    "\n",
    "\n",
    "dt = DecisionTreeClassifier(random_state=best_x)\n",
    "dt.fit(X_train,Y_train)\n",
    "Y_pred_dt = dt.predict(X_test)"
   ]
  },
  {
   "cell_type": "code",
   "execution_count": 54,
   "id": "95a1e1bf",
   "metadata": {},
   "outputs": [
    {
     "name": "stdout",
     "output_type": "stream",
     "text": [
      "(61,)\n"
     ]
    }
   ],
   "source": [
    "print(Y_pred_dt.shape)"
   ]
  },
  {
   "cell_type": "code",
   "execution_count": 55,
   "id": "f23d4cd6",
   "metadata": {},
   "outputs": [
    {
     "name": "stdout",
     "output_type": "stream",
     "text": [
      "The accuracy score achieved using Decision Tree is: 81.97 %\n"
     ]
    }
   ],
   "source": [
    "score_dt = round(accuracy_score(Y_pred_dt,Y_test)*100,2)\n",
    "\n",
    "print(\"The accuracy score achieved using Decision Tree is: \"+str(score_dt)+\" %\")"
   ]
  },
  {
   "cell_type": "code",
   "execution_count": 56,
   "id": "957d4b23",
   "metadata": {},
   "outputs": [],
   "source": [
    "from sklearn.ensemble import RandomForestClassifier\n",
    "\n",
    "max_accuracy = 0\n",
    "\n",
    "\n",
    "for x in range(2000):\n",
    "    rf = RandomForestClassifier(random_state=x)\n",
    "    rf.fit(X_train,Y_train)\n",
    "    Y_pred_rf = rf.predict(X_test)\n",
    "    current_accuracy = round(accuracy_score(Y_pred_rf,Y_test)*100,2)\n",
    "    if(current_accuracy>max_accuracy):\n",
    "        max_accuracy = current_accuracy\n",
    "        best_x = x\n",
    "        \n",
    "#print(max_accuracy)\n",
    "#print(best_x)\n",
    "\n",
    "rf = RandomForestClassifier(random_state=best_x)\n",
    "rf.fit(X_train,Y_train)\n",
    "Y_pred_rf = rf.predict(X_test)"
   ]
  },
  {
   "cell_type": "code",
   "execution_count": 59,
   "id": "bee02b4e",
   "metadata": {},
   "outputs": [
    {
     "data": {
      "text/plain": [
       "(61,)"
      ]
     },
     "execution_count": 59,
     "metadata": {},
     "output_type": "execute_result"
    }
   ],
   "source": [
    "Y_pred_rf.shape"
   ]
  },
  {
   "cell_type": "code",
   "execution_count": 58,
   "id": "b0f46c1d",
   "metadata": {},
   "outputs": [
    {
     "name": "stdout",
     "output_type": "stream",
     "text": [
      "The accuracy score achieved using Decision Tree is: 90.16 %\n"
     ]
    }
   ],
   "source": [
    "score_rf = round(accuracy_score(Y_pred_rf,Y_test)*100,2)\n",
    "\n",
    "print(\"The accuracy score achieved using Decision Tree is: \"+str(score_rf)+\" %\")"
   ]
  },
  {
   "cell_type": "code",
   "execution_count": 60,
   "id": "c4426453",
   "metadata": {},
   "outputs": [],
   "source": [
    "import xgboost as xgb\n",
    "\n",
    "xgb_model = xgb.XGBClassifier(objective=\"binary:logistic\", random_state=42)\n",
    "xgb_model.fit(X_train, Y_train)\n",
    "\n",
    "Y_pred_xgb = xgb_model.predict(X_test)"
   ]
  },
  {
   "cell_type": "code",
   "execution_count": 61,
   "id": "13e73fd9",
   "metadata": {},
   "outputs": [
    {
     "data": {
      "text/plain": [
       "(61,)"
      ]
     },
     "execution_count": 61,
     "metadata": {},
     "output_type": "execute_result"
    }
   ],
   "source": [
    "Y_pred_xgb.shape\n"
   ]
  },
  {
   "cell_type": "code",
   "execution_count": 62,
   "id": "41e3e051",
   "metadata": {},
   "outputs": [
    {
     "name": "stdout",
     "output_type": "stream",
     "text": [
      "The accuracy score achieved using XGBoost is: 78.69 %\n"
     ]
    }
   ],
   "source": [
    "score_xgb = round(accuracy_score(Y_pred_xgb,Y_test)*100,2)\n",
    "\n",
    "print(\"The accuracy score achieved using XGBoost is: \"+str(score_xgb)+\" %\")"
   ]
  },
  {
   "cell_type": "code",
   "execution_count": 63,
   "id": "d55412f1",
   "metadata": {},
   "outputs": [],
   "source": [
    "from keras.models import Sequential\n",
    "from keras.layers import Dense"
   ]
  },
  {
   "cell_type": "code",
   "execution_count": 64,
   "id": "86bacffe",
   "metadata": {},
   "outputs": [],
   "source": [
    "model = Sequential()\n",
    "model.add(Dense(11,activation='relu',input_dim=13))\n",
    "model.add(Dense(1,activation='sigmoid'))\n",
    "\n",
    "model.compile(loss='binary_crossentropy',optimizer='adam',metrics=['accuracy'])"
   ]
  },
  {
   "cell_type": "code",
   "execution_count": 65,
   "id": "d3589fbd",
   "metadata": {},
   "outputs": [
    {
     "name": "stdout",
     "output_type": "stream",
     "text": [
      "Epoch 1/300\n",
      "8/8 [==============================] - 1s 5ms/step - loss: 97.6083 - accuracy: 0.4587\n",
      "Epoch 2/300\n",
      "8/8 [==============================] - 0s 2ms/step - loss: 91.3465 - accuracy: 0.4587\n",
      "Epoch 3/300\n",
      "8/8 [==============================] - 0s 2ms/step - loss: 85.6189 - accuracy: 0.4587\n",
      "Epoch 4/300\n",
      "8/8 [==============================] - 0s 3ms/step - loss: 80.1753 - accuracy: 0.4587\n",
      "Epoch 5/300\n",
      "8/8 [==============================] - 0s 2ms/step - loss: 75.0705 - accuracy: 0.4587\n",
      "Epoch 6/300\n",
      "8/8 [==============================] - 0s 2ms/step - loss: 70.1533 - accuracy: 0.4587\n",
      "Epoch 7/300\n",
      "8/8 [==============================] - 0s 2ms/step - loss: 65.5526 - accuracy: 0.4587\n",
      "Epoch 8/300\n",
      "8/8 [==============================] - 0s 2ms/step - loss: 61.3365 - accuracy: 0.4587\n",
      "Epoch 9/300\n",
      "8/8 [==============================] - 0s 2ms/step - loss: 57.1099 - accuracy: 0.4587\n",
      "Epoch 10/300\n",
      "8/8 [==============================] - 0s 2ms/step - loss: 53.1292 - accuracy: 0.4587\n",
      "Epoch 11/300\n",
      "8/8 [==============================] - 0s 2ms/step - loss: 49.4300 - accuracy: 0.4587\n",
      "Epoch 12/300\n",
      "8/8 [==============================] - 0s 2ms/step - loss: 45.8836 - accuracy: 0.4587\n",
      "Epoch 13/300\n",
      "8/8 [==============================] - 0s 3ms/step - loss: 42.3739 - accuracy: 0.4587\n",
      "Epoch 14/300\n",
      "8/8 [==============================] - 0s 2ms/step - loss: 39.1697 - accuracy: 0.4587\n",
      "Epoch 15/300\n",
      "8/8 [==============================] - 0s 2ms/step - loss: 35.9510 - accuracy: 0.4587\n",
      "Epoch 16/300\n",
      "8/8 [==============================] - 0s 2ms/step - loss: 32.9058 - accuracy: 0.4587\n",
      "Epoch 17/300\n",
      "8/8 [==============================] - 0s 2ms/step - loss: 29.9834 - accuracy: 0.4587\n",
      "Epoch 18/300\n",
      "8/8 [==============================] - 0s 1ms/step - loss: 27.2093 - accuracy: 0.4587\n",
      "Epoch 19/300\n",
      "8/8 [==============================] - 0s 2ms/step - loss: 24.3944 - accuracy: 0.4587\n",
      "Epoch 20/300\n",
      "8/8 [==============================] - 0s 2ms/step - loss: 21.7186 - accuracy: 0.4587\n",
      "Epoch 21/300\n",
      "8/8 [==============================] - 0s 3ms/step - loss: 19.0885 - accuracy: 0.4587\n",
      "Epoch 22/300\n",
      "8/8 [==============================] - 0s 2ms/step - loss: 16.7855 - accuracy: 0.4587\n",
      "Epoch 23/300\n",
      "8/8 [==============================] - 0s 2ms/step - loss: 14.5521 - accuracy: 0.4587\n",
      "Epoch 24/300\n",
      "8/8 [==============================] - 0s 3ms/step - loss: 12.4265 - accuracy: 0.4587\n",
      "Epoch 25/300\n",
      "8/8 [==============================] - 0s 2ms/step - loss: 10.5342 - accuracy: 0.4587\n",
      "Epoch 26/300\n",
      "8/8 [==============================] - 0s 2ms/step - loss: 8.4260 - accuracy: 0.4587\n",
      "Epoch 27/300\n",
      "8/8 [==============================] - 0s 3ms/step - loss: 6.1602 - accuracy: 0.4587\n",
      "Epoch 28/300\n",
      "8/8 [==============================] - 0s 2ms/step - loss: 3.9137 - accuracy: 0.4587\n",
      "Epoch 29/300\n",
      "8/8 [==============================] - 0s 2ms/step - loss: 1.5298 - accuracy: 0.4504\n",
      "Epoch 30/300\n",
      "8/8 [==============================] - 0s 3ms/step - loss: 0.9538 - accuracy: 0.5455\n",
      "Epoch 31/300\n",
      "8/8 [==============================] - 0s 2ms/step - loss: 1.0781 - accuracy: 0.5537\n",
      "Epoch 32/300\n",
      "8/8 [==============================] - 0s 2ms/step - loss: 0.8101 - accuracy: 0.5000\n",
      "Epoch 33/300\n",
      "8/8 [==============================] - 0s 3ms/step - loss: 0.7786 - accuracy: 0.4669\n",
      "Epoch 34/300\n",
      "8/8 [==============================] - 0s 2ms/step - loss: 0.7628 - accuracy: 0.5000\n",
      "Epoch 35/300\n",
      "8/8 [==============================] - 0s 2ms/step - loss: 0.7278 - accuracy: 0.4959\n",
      "Epoch 36/300\n",
      "8/8 [==============================] - 0s 3ms/step - loss: 0.7285 - accuracy: 0.5579\n",
      "Epoch 37/300\n",
      "8/8 [==============================] - 0s 2ms/step - loss: 0.7154 - accuracy: 0.5661\n",
      "Epoch 38/300\n",
      "8/8 [==============================] - 0s 3ms/step - loss: 0.7097 - accuracy: 0.5289\n",
      "Epoch 39/300\n",
      "8/8 [==============================] - 0s 3ms/step - loss: 0.6948 - accuracy: 0.5579\n",
      "Epoch 40/300\n",
      "8/8 [==============================] - 0s 2ms/step - loss: 0.6852 - accuracy: 0.5868\n",
      "Epoch 41/300\n",
      "8/8 [==============================] - 0s 3ms/step - loss: 0.6771 - accuracy: 0.5950\n",
      "Epoch 42/300\n",
      "8/8 [==============================] - 0s 2ms/step - loss: 0.6694 - accuracy: 0.5950\n",
      "Epoch 43/300\n",
      "8/8 [==============================] - 0s 2ms/step - loss: 0.6622 - accuracy: 0.5868\n",
      "Epoch 44/300\n",
      "8/8 [==============================] - 0s 3ms/step - loss: 0.6573 - accuracy: 0.5950\n",
      "Epoch 45/300\n",
      "8/8 [==============================] - 0s 2ms/step - loss: 0.6510 - accuracy: 0.5992\n",
      "Epoch 46/300\n",
      "8/8 [==============================] - 0s 3ms/step - loss: 0.6480 - accuracy: 0.6116\n",
      "Epoch 47/300\n",
      "8/8 [==============================] - 0s 3ms/step - loss: 0.6380 - accuracy: 0.6116\n",
      "Epoch 48/300\n",
      "8/8 [==============================] - 0s 2ms/step - loss: 0.6351 - accuracy: 0.6198\n",
      "Epoch 49/300\n",
      "8/8 [==============================] - 0s 2ms/step - loss: 0.6365 - accuracy: 0.6405\n",
      "Epoch 50/300\n",
      "8/8 [==============================] - 0s 4ms/step - loss: 0.6279 - accuracy: 0.6364\n",
      "Epoch 51/300\n",
      "8/8 [==============================] - 0s 2ms/step - loss: 0.6201 - accuracy: 0.6529\n",
      "Epoch 52/300\n",
      "8/8 [==============================] - 0s 1ms/step - loss: 0.6161 - accuracy: 0.6570\n",
      "Epoch 53/300\n",
      "8/8 [==============================] - 0s 2ms/step - loss: 0.6130 - accuracy: 0.6570\n",
      "Epoch 54/300\n",
      "8/8 [==============================] - 0s 3ms/step - loss: 0.6079 - accuracy: 0.6736\n",
      "Epoch 55/300\n",
      "8/8 [==============================] - 0s 2ms/step - loss: 0.6063 - accuracy: 0.6736\n",
      "Epoch 56/300\n",
      "8/8 [==============================] - 0s 712us/step - loss: 0.6018 - accuracy: 0.6777\n",
      "Epoch 57/300\n",
      "8/8 [==============================] - 0s 777us/step - loss: 0.5995 - accuracy: 0.6901\n",
      "Epoch 58/300\n",
      "8/8 [==============================] - 0s 2ms/step - loss: 0.5959 - accuracy: 0.6818\n",
      "Epoch 59/300\n",
      "8/8 [==============================] - 0s 2ms/step - loss: 0.5923 - accuracy: 0.6942\n",
      "Epoch 60/300\n",
      "8/8 [==============================] - 0s 2ms/step - loss: 0.5912 - accuracy: 0.6901\n",
      "Epoch 61/300\n",
      "8/8 [==============================] - 0s 2ms/step - loss: 0.5891 - accuracy: 0.7025\n",
      "Epoch 62/300\n",
      "8/8 [==============================] - 0s 2ms/step - loss: 0.5855 - accuracy: 0.7107\n",
      "Epoch 63/300\n",
      "8/8 [==============================] - 0s 2ms/step - loss: 0.5832 - accuracy: 0.6942\n",
      "Epoch 64/300\n",
      "8/8 [==============================] - 0s 2ms/step - loss: 0.5822 - accuracy: 0.7025\n",
      "Epoch 65/300\n",
      "8/8 [==============================] - 0s 2ms/step - loss: 0.5818 - accuracy: 0.6983\n",
      "Epoch 66/300\n",
      "8/8 [==============================] - 0s 743us/step - loss: 0.5763 - accuracy: 0.7190\n",
      "Epoch 67/300\n",
      "8/8 [==============================] - 0s 509us/step - loss: 0.5752 - accuracy: 0.6942\n",
      "Epoch 68/300\n",
      "8/8 [==============================] - 0s 2ms/step - loss: 0.5722 - accuracy: 0.7025\n",
      "Epoch 69/300\n",
      "8/8 [==============================] - 0s 2ms/step - loss: 0.5754 - accuracy: 0.7149\n",
      "Epoch 70/300\n",
      "8/8 [==============================] - 0s 3ms/step - loss: 0.5714 - accuracy: 0.7149\n",
      "Epoch 71/300\n",
      "8/8 [==============================] - 0s 2ms/step - loss: 0.5678 - accuracy: 0.7025\n",
      "Epoch 72/300\n",
      "8/8 [==============================] - 0s 3ms/step - loss: 0.5669 - accuracy: 0.7314\n",
      "Epoch 73/300\n",
      "8/8 [==============================] - 0s 1ms/step - loss: 0.5649 - accuracy: 0.7397\n",
      "Epoch 74/300\n",
      "8/8 [==============================] - 0s 2ms/step - loss: 0.5668 - accuracy: 0.7149\n",
      "Epoch 75/300\n",
      "8/8 [==============================] - 0s 2ms/step - loss: 0.5627 - accuracy: 0.7149\n",
      "Epoch 76/300\n",
      "8/8 [==============================] - 0s 3ms/step - loss: 0.5610 - accuracy: 0.7314\n",
      "Epoch 77/300\n",
      "8/8 [==============================] - 0s 2ms/step - loss: 0.5590 - accuracy: 0.7231\n",
      "Epoch 78/300\n",
      "8/8 [==============================] - 0s 2ms/step - loss: 0.5589 - accuracy: 0.7149\n",
      "Epoch 79/300\n",
      "8/8 [==============================] - 0s 411us/step - loss: 0.5546 - accuracy: 0.7231\n",
      "Epoch 80/300\n",
      "8/8 [==============================] - 0s 2ms/step - loss: 0.5568 - accuracy: 0.7355\n",
      "Epoch 81/300\n",
      "8/8 [==============================] - 0s 2ms/step - loss: 0.5529 - accuracy: 0.7355\n",
      "Epoch 82/300\n",
      "8/8 [==============================] - 0s 2ms/step - loss: 0.5534 - accuracy: 0.7231\n",
      "Epoch 83/300\n",
      "8/8 [==============================] - 0s 2ms/step - loss: 0.5538 - accuracy: 0.7231\n",
      "Epoch 84/300\n",
      "8/8 [==============================] - 0s 2ms/step - loss: 0.5520 - accuracy: 0.7231\n",
      "Epoch 85/300\n",
      "8/8 [==============================] - 0s 2ms/step - loss: 0.5510 - accuracy: 0.7190\n",
      "Epoch 86/300\n",
      "8/8 [==============================] - 0s 2ms/step - loss: 0.5470 - accuracy: 0.7231\n",
      "Epoch 87/300\n",
      "8/8 [==============================] - 0s 2ms/step - loss: 0.5458 - accuracy: 0.7273\n",
      "Epoch 88/300\n",
      "8/8 [==============================] - 0s 2ms/step - loss: 0.5441 - accuracy: 0.7314\n",
      "Epoch 89/300\n",
      "8/8 [==============================] - 0s 2ms/step - loss: 0.5440 - accuracy: 0.7397\n",
      "Epoch 90/300\n",
      "8/8 [==============================] - 0s 2ms/step - loss: 0.5416 - accuracy: 0.7355\n",
      "Epoch 91/300\n",
      "8/8 [==============================] - 0s 2ms/step - loss: 0.5428 - accuracy: 0.7273\n",
      "Epoch 92/300\n",
      "8/8 [==============================] - 0s 2ms/step - loss: 0.5406 - accuracy: 0.7314\n",
      "Epoch 93/300\n",
      "8/8 [==============================] - 0s 2ms/step - loss: 0.5396 - accuracy: 0.7314\n",
      "Epoch 94/300\n",
      "8/8 [==============================] - 0s 2ms/step - loss: 0.5429 - accuracy: 0.7355\n",
      "Epoch 95/300\n",
      "8/8 [==============================] - 0s 2ms/step - loss: 0.5374 - accuracy: 0.7438\n",
      "Epoch 96/300\n",
      "8/8 [==============================] - 0s 3ms/step - loss: 0.5408 - accuracy: 0.7190\n",
      "Epoch 97/300\n",
      "8/8 [==============================] - 0s 2ms/step - loss: 0.5385 - accuracy: 0.7438\n",
      "Epoch 98/300\n",
      "8/8 [==============================] - 0s 2ms/step - loss: 0.5354 - accuracy: 0.7479\n",
      "Epoch 99/300\n",
      "8/8 [==============================] - 0s 2ms/step - loss: 0.5360 - accuracy: 0.7397\n",
      "Epoch 100/300\n",
      "8/8 [==============================] - 0s 2ms/step - loss: 0.5357 - accuracy: 0.7314\n",
      "Epoch 101/300\n",
      "8/8 [==============================] - 0s 2ms/step - loss: 0.5306 - accuracy: 0.7438\n",
      "Epoch 102/300\n",
      "8/8 [==============================] - 0s 2ms/step - loss: 0.5358 - accuracy: 0.7397\n",
      "Epoch 103/300\n",
      "8/8 [==============================] - 0s 2ms/step - loss: 0.5295 - accuracy: 0.7355\n",
      "Epoch 104/300\n",
      "8/8 [==============================] - 0s 2ms/step - loss: 0.5314 - accuracy: 0.7438\n",
      "Epoch 105/300\n",
      "8/8 [==============================] - 0s 651us/step - loss: 0.5310 - accuracy: 0.7355\n",
      "Epoch 106/300\n",
      "8/8 [==============================] - 0s 2ms/step - loss: 0.5270 - accuracy: 0.7397\n",
      "Epoch 107/300\n",
      "8/8 [==============================] - 0s 2ms/step - loss: 0.5264 - accuracy: 0.7521\n",
      "Epoch 108/300\n",
      "8/8 [==============================] - 0s 404us/step - loss: 0.5258 - accuracy: 0.7273\n",
      "Epoch 109/300\n",
      "8/8 [==============================] - 0s 165us/step - loss: 0.5259 - accuracy: 0.7438\n",
      "Epoch 110/300\n",
      "8/8 [==============================] - 0s 163us/step - loss: 0.5251 - accuracy: 0.7397\n",
      "Epoch 111/300\n",
      "8/8 [==============================] - 0s 129us/step - loss: 0.5219 - accuracy: 0.7314\n",
      "Epoch 112/300\n",
      "8/8 [==============================] - 0s 180us/step - loss: 0.5252 - accuracy: 0.7438\n",
      "Epoch 113/300\n",
      "8/8 [==============================] - 0s 2ms/step - loss: 0.5225 - accuracy: 0.7438\n",
      "Epoch 114/300\n",
      "8/8 [==============================] - 0s 2ms/step - loss: 0.5206 - accuracy: 0.7397\n",
      "Epoch 115/300\n",
      "8/8 [==============================] - 0s 2ms/step - loss: 0.5195 - accuracy: 0.7397\n",
      "Epoch 116/300\n",
      "8/8 [==============================] - 0s 2ms/step - loss: 0.5203 - accuracy: 0.7603\n",
      "Epoch 117/300\n",
      "8/8 [==============================] - 0s 2ms/step - loss: 0.5203 - accuracy: 0.7355\n",
      "Epoch 118/300\n",
      "8/8 [==============================] - 0s 2ms/step - loss: 0.5218 - accuracy: 0.7438\n",
      "Epoch 119/300\n",
      "8/8 [==============================] - 0s 2ms/step - loss: 0.5142 - accuracy: 0.7521\n",
      "Epoch 120/300\n",
      "8/8 [==============================] - 0s 2ms/step - loss: 0.5137 - accuracy: 0.7479\n",
      "Epoch 121/300\n",
      "8/8 [==============================] - 0s 2ms/step - loss: 0.5139 - accuracy: 0.7355\n",
      "Epoch 122/300\n",
      "8/8 [==============================] - 0s 2ms/step - loss: 0.5139 - accuracy: 0.7645\n",
      "Epoch 123/300\n",
      "8/8 [==============================] - 0s 2ms/step - loss: 0.5108 - accuracy: 0.7521\n",
      "Epoch 124/300\n",
      "8/8 [==============================] - 0s 2ms/step - loss: 0.5113 - accuracy: 0.7438\n",
      "Epoch 125/300\n",
      "8/8 [==============================] - 0s 2ms/step - loss: 0.5104 - accuracy: 0.7603\n",
      "Epoch 126/300\n",
      "8/8 [==============================] - 0s 2ms/step - loss: 0.5090 - accuracy: 0.7603\n",
      "Epoch 127/300\n",
      "8/8 [==============================] - 0s 0s/step - loss: 0.5167 - accuracy: 0.7562\n",
      "Epoch 128/300\n",
      "8/8 [==============================] - 0s 2ms/step - loss: 0.5074 - accuracy: 0.7686\n",
      "Epoch 129/300\n",
      "8/8 [==============================] - 0s 2ms/step - loss: 0.5074 - accuracy: 0.7645\n",
      "Epoch 130/300\n",
      "8/8 [==============================] - 0s 2ms/step - loss: 0.5064 - accuracy: 0.7603\n",
      "Epoch 131/300\n",
      "8/8 [==============================] - 0s 2ms/step - loss: 0.5063 - accuracy: 0.7603\n",
      "Epoch 132/300\n",
      "8/8 [==============================] - 0s 2ms/step - loss: 0.5033 - accuracy: 0.7562\n",
      "Epoch 133/300\n",
      "8/8 [==============================] - 0s 3ms/step - loss: 0.5045 - accuracy: 0.7645\n",
      "Epoch 134/300\n",
      "8/8 [==============================] - 0s 3ms/step - loss: 0.5055 - accuracy: 0.7645\n",
      "Epoch 135/300\n",
      "8/8 [==============================] - 0s 4ms/step - loss: 0.5014 - accuracy: 0.7562\n",
      "Epoch 136/300\n",
      "8/8 [==============================] - 0s 2ms/step - loss: 0.5013 - accuracy: 0.7603\n",
      "Epoch 137/300\n",
      "8/8 [==============================] - 0s 2ms/step - loss: 0.5006 - accuracy: 0.7686\n",
      "Epoch 138/300\n",
      "8/8 [==============================] - 0s 2ms/step - loss: 0.4998 - accuracy: 0.7603\n",
      "Epoch 139/300\n",
      "8/8 [==============================] - 0s 2ms/step - loss: 0.5024 - accuracy: 0.7438\n",
      "Epoch 140/300\n",
      "8/8 [==============================] - 0s 3ms/step - loss: 0.5005 - accuracy: 0.7645\n",
      "Epoch 141/300\n",
      "8/8 [==============================] - 0s 2ms/step - loss: 0.4976 - accuracy: 0.7727\n",
      "Epoch 142/300\n",
      "8/8 [==============================] - 0s 3ms/step - loss: 0.4971 - accuracy: 0.7603\n",
      "Epoch 143/300\n",
      "8/8 [==============================] - 0s 260us/step - loss: 0.4971 - accuracy: 0.7769\n",
      "Epoch 144/300\n",
      "8/8 [==============================] - 0s 2ms/step - loss: 0.4946 - accuracy: 0.7727\n",
      "Epoch 145/300\n",
      "8/8 [==============================] - 0s 2ms/step - loss: 0.4978 - accuracy: 0.7686\n",
      "Epoch 146/300\n",
      "8/8 [==============================] - 0s 2ms/step - loss: 0.4950 - accuracy: 0.7727\n",
      "Epoch 147/300\n",
      "8/8 [==============================] - 0s 2ms/step - loss: 0.4939 - accuracy: 0.7727\n",
      "Epoch 148/300\n",
      "8/8 [==============================] - 0s 2ms/step - loss: 0.4928 - accuracy: 0.7727\n",
      "Epoch 149/300\n",
      "8/8 [==============================] - 0s 2ms/step - loss: 0.4913 - accuracy: 0.7769\n",
      "Epoch 150/300\n",
      "8/8 [==============================] - 0s 2ms/step - loss: 0.4908 - accuracy: 0.7727\n",
      "Epoch 151/300\n",
      "8/8 [==============================] - 0s 2ms/step - loss: 0.4898 - accuracy: 0.7769\n",
      "Epoch 152/300\n",
      "8/8 [==============================] - 0s 3ms/step - loss: 0.4881 - accuracy: 0.7851\n",
      "Epoch 153/300\n",
      "8/8 [==============================] - 0s 2ms/step - loss: 0.4885 - accuracy: 0.7769\n",
      "Epoch 154/300\n",
      "8/8 [==============================] - 0s 2ms/step - loss: 0.4872 - accuracy: 0.7810\n",
      "Epoch 155/300\n",
      "8/8 [==============================] - 0s 2ms/step - loss: 0.4865 - accuracy: 0.7810\n",
      "Epoch 156/300\n",
      "8/8 [==============================] - 0s 2ms/step - loss: 0.4860 - accuracy: 0.7810\n",
      "Epoch 157/300\n",
      "8/8 [==============================] - 0s 2ms/step - loss: 0.4855 - accuracy: 0.7810\n",
      "Epoch 158/300\n",
      "8/8 [==============================] - 0s 2ms/step - loss: 0.4852 - accuracy: 0.7851\n",
      "Epoch 159/300\n",
      "8/8 [==============================] - 0s 2ms/step - loss: 0.4852 - accuracy: 0.7851\n",
      "Epoch 160/300\n",
      "8/8 [==============================] - 0s 2ms/step - loss: 0.4849 - accuracy: 0.7769\n",
      "Epoch 161/300\n",
      "8/8 [==============================] - 0s 2ms/step - loss: 0.4852 - accuracy: 0.7810\n",
      "Epoch 162/300\n",
      "8/8 [==============================] - 0s 2ms/step - loss: 0.4823 - accuracy: 0.7893\n",
      "Epoch 163/300\n",
      "8/8 [==============================] - 0s 2ms/step - loss: 0.4824 - accuracy: 0.7851\n",
      "Epoch 164/300\n",
      "8/8 [==============================] - 0s 2ms/step - loss: 0.4823 - accuracy: 0.7810\n",
      "Epoch 165/300\n",
      "8/8 [==============================] - 0s 2ms/step - loss: 0.4934 - accuracy: 0.7603\n",
      "Epoch 166/300\n",
      "8/8 [==============================] - 0s 2ms/step - loss: 0.4852 - accuracy: 0.7727\n",
      "Epoch 167/300\n",
      "8/8 [==============================] - 0s 2ms/step - loss: 0.4786 - accuracy: 0.7810\n",
      "Epoch 168/300\n",
      "8/8 [==============================] - 0s 2ms/step - loss: 0.4959 - accuracy: 0.7727\n",
      "Epoch 169/300\n",
      "8/8 [==============================] - 0s 2ms/step - loss: 0.4829 - accuracy: 0.7645\n",
      "Epoch 170/300\n",
      "8/8 [==============================] - 0s 2ms/step - loss: 0.4794 - accuracy: 0.7810\n",
      "Epoch 171/300\n",
      "8/8 [==============================] - 0s 2ms/step - loss: 0.4777 - accuracy: 0.7810\n",
      "Epoch 172/300\n",
      "8/8 [==============================] - 0s 2ms/step - loss: 0.4762 - accuracy: 0.7851\n",
      "Epoch 173/300\n",
      "8/8 [==============================] - 0s 277us/step - loss: 0.4822 - accuracy: 0.7645\n",
      "Epoch 174/300\n",
      "8/8 [==============================] - 0s 343us/step - loss: 0.4757 - accuracy: 0.7769\n",
      "Epoch 175/300\n",
      "8/8 [==============================] - 0s 201us/step - loss: 0.4740 - accuracy: 0.7851\n",
      "Epoch 176/300\n",
      "8/8 [==============================] - 0s 2ms/step - loss: 0.4750 - accuracy: 0.7810\n",
      "Epoch 177/300\n",
      "8/8 [==============================] - 0s 2ms/step - loss: 0.4765 - accuracy: 0.7769\n",
      "Epoch 178/300\n",
      "8/8 [==============================] - 0s 2ms/step - loss: 0.4723 - accuracy: 0.7851\n",
      "Epoch 179/300\n",
      "8/8 [==============================] - 0s 2ms/step - loss: 0.4725 - accuracy: 0.7893\n",
      "Epoch 180/300\n",
      "8/8 [==============================] - 0s 2ms/step - loss: 0.4713 - accuracy: 0.7893\n",
      "Epoch 181/300\n",
      "8/8 [==============================] - 0s 2ms/step - loss: 0.4705 - accuracy: 0.7934\n",
      "Epoch 182/300\n",
      "8/8 [==============================] - 0s 2ms/step - loss: 0.4691 - accuracy: 0.7934\n",
      "Epoch 183/300\n",
      "8/8 [==============================] - 0s 3ms/step - loss: 0.4690 - accuracy: 0.7851\n",
      "Epoch 184/300\n",
      "8/8 [==============================] - 0s 2ms/step - loss: 0.4702 - accuracy: 0.7893\n",
      "Epoch 185/300\n",
      "8/8 [==============================] - 0s 2ms/step - loss: 0.4724 - accuracy: 0.7893\n",
      "Epoch 186/300\n",
      "8/8 [==============================] - 0s 2ms/step - loss: 0.4794 - accuracy: 0.7727\n",
      "Epoch 187/300\n",
      "8/8 [==============================] - 0s 2ms/step - loss: 0.4670 - accuracy: 0.7851\n",
      "Epoch 188/300\n",
      "8/8 [==============================] - 0s 3ms/step - loss: 0.4681 - accuracy: 0.7769\n",
      "Epoch 189/300\n",
      "8/8 [==============================] - 0s 4ms/step - loss: 0.4647 - accuracy: 0.7975\n",
      "Epoch 190/300\n",
      "8/8 [==============================] - 0s 2ms/step - loss: 0.4684 - accuracy: 0.7893\n",
      "Epoch 191/300\n",
      "8/8 [==============================] - 0s 2ms/step - loss: 0.4644 - accuracy: 0.7934\n",
      "Epoch 192/300\n",
      "8/8 [==============================] - 0s 2ms/step - loss: 0.4646 - accuracy: 0.7893\n",
      "Epoch 193/300\n",
      "8/8 [==============================] - 0s 2ms/step - loss: 0.4641 - accuracy: 0.7975\n",
      "Epoch 194/300\n",
      "8/8 [==============================] - 0s 3ms/step - loss: 0.4643 - accuracy: 0.7893\n",
      "Epoch 195/300\n",
      "8/8 [==============================] - 0s 1ms/step - loss: 0.4621 - accuracy: 0.7975\n",
      "Epoch 196/300\n",
      "8/8 [==============================] - 0s 2ms/step - loss: 0.4623 - accuracy: 0.7893\n",
      "Epoch 197/300\n",
      "8/8 [==============================] - 0s 4ms/step - loss: 0.4617 - accuracy: 0.7934\n",
      "Epoch 198/300\n",
      "8/8 [==============================] - 0s 2ms/step - loss: 0.4605 - accuracy: 0.8017\n",
      "Epoch 199/300\n",
      "8/8 [==============================] - 0s 401us/step - loss: 0.4606 - accuracy: 0.7893\n",
      "Epoch 200/300\n",
      "8/8 [==============================] - 0s 4ms/step - loss: 0.4588 - accuracy: 0.8017\n",
      "Epoch 201/300\n",
      "8/8 [==============================] - 0s 183us/step - loss: 0.4590 - accuracy: 0.7975\n",
      "Epoch 202/300\n",
      "8/8 [==============================] - 0s 4ms/step - loss: 0.4557 - accuracy: 0.7934\n",
      "Epoch 203/300\n",
      "8/8 [==============================] - 0s 348us/step - loss: 0.4590 - accuracy: 0.7851\n",
      "Epoch 204/300\n",
      "8/8 [==============================] - 0s 4ms/step - loss: 0.4571 - accuracy: 0.7893\n",
      "Epoch 205/300\n",
      "8/8 [==============================] - 0s 1ms/step - loss: 0.4578 - accuracy: 0.8017\n",
      "Epoch 206/300\n",
      "8/8 [==============================] - 0s 2ms/step - loss: 0.4584 - accuracy: 0.8017\n",
      "Epoch 207/300\n",
      "8/8 [==============================] - 0s 2ms/step - loss: 0.4554 - accuracy: 0.8058\n",
      "Epoch 208/300\n",
      "8/8 [==============================] - 0s 2ms/step - loss: 0.4542 - accuracy: 0.8017\n",
      "Epoch 209/300\n",
      "8/8 [==============================] - 0s 2ms/step - loss: 0.4536 - accuracy: 0.8058\n",
      "Epoch 210/300\n",
      "8/8 [==============================] - 0s 2ms/step - loss: 0.4558 - accuracy: 0.8058\n",
      "Epoch 211/300\n",
      "8/8 [==============================] - 0s 2ms/step - loss: 0.4534 - accuracy: 0.8058\n",
      "Epoch 212/300\n",
      "8/8 [==============================] - 0s 2ms/step - loss: 0.4514 - accuracy: 0.8058\n",
      "Epoch 213/300\n",
      "8/8 [==============================] - 0s 0s/step - loss: 0.4529 - accuracy: 0.8058\n",
      "Epoch 214/300\n",
      "8/8 [==============================] - 0s 2ms/step - loss: 0.4509 - accuracy: 0.8058\n",
      "Epoch 215/300\n",
      "8/8 [==============================] - 0s 0s/step - loss: 0.4511 - accuracy: 0.8058\n",
      "Epoch 216/300\n",
      "8/8 [==============================] - 0s 0s/step - loss: 0.4511 - accuracy: 0.8058\n",
      "Epoch 217/300\n",
      "8/8 [==============================] - 0s 0s/step - loss: 0.4494 - accuracy: 0.8058\n",
      "Epoch 218/300\n",
      "8/8 [==============================] - 0s 0s/step - loss: 0.4521 - accuracy: 0.8099\n",
      "Epoch 219/300\n",
      "8/8 [==============================] - 0s 0s/step - loss: 0.4484 - accuracy: 0.8099\n",
      "Epoch 220/300\n",
      "8/8 [==============================] - 0s 0s/step - loss: 0.4487 - accuracy: 0.8140\n",
      "Epoch 221/300\n",
      "8/8 [==============================] - 0s 0s/step - loss: 0.4501 - accuracy: 0.8017\n",
      "Epoch 222/300\n",
      "8/8 [==============================] - 0s 2ms/step - loss: 0.4480 - accuracy: 0.8058\n",
      "Epoch 223/300\n",
      "8/8 [==============================] - 0s 2ms/step - loss: 0.4484 - accuracy: 0.8058\n",
      "Epoch 224/300\n",
      "8/8 [==============================] - 0s 2ms/step - loss: 0.4521 - accuracy: 0.8223\n",
      "Epoch 225/300\n",
      "8/8 [==============================] - 0s 2ms/step - loss: 0.4481 - accuracy: 0.8058\n",
      "Epoch 226/300\n",
      "8/8 [==============================] - 0s 2ms/step - loss: 0.4557 - accuracy: 0.8017\n",
      "Epoch 227/300\n",
      "8/8 [==============================] - 0s 2ms/step - loss: 0.4485 - accuracy: 0.8140\n",
      "Epoch 228/300\n",
      "8/8 [==============================] - 0s 2ms/step - loss: 0.4450 - accuracy: 0.7975\n",
      "Epoch 229/300\n",
      "8/8 [==============================] - 0s 2ms/step - loss: 0.4460 - accuracy: 0.8058\n",
      "Epoch 230/300\n",
      "8/8 [==============================] - 0s 2ms/step - loss: 0.4425 - accuracy: 0.8140\n",
      "Epoch 231/300\n",
      "8/8 [==============================] - 0s 2ms/step - loss: 0.4428 - accuracy: 0.8140\n",
      "Epoch 232/300\n",
      "8/8 [==============================] - 0s 2ms/step - loss: 0.4436 - accuracy: 0.8140\n",
      "Epoch 233/300\n",
      "8/8 [==============================] - 0s 0s/step - loss: 0.4415 - accuracy: 0.8182\n",
      "Epoch 234/300\n",
      "8/8 [==============================] - 0s 0s/step - loss: 0.4411 - accuracy: 0.8140\n",
      "Epoch 235/300\n",
      "8/8 [==============================] - 0s 0s/step - loss: 0.4399 - accuracy: 0.8182\n",
      "Epoch 236/300\n",
      "8/8 [==============================] - 0s 0s/step - loss: 0.4406 - accuracy: 0.8140\n",
      "Epoch 237/300\n",
      "8/8 [==============================] - 0s 0s/step - loss: 0.4402 - accuracy: 0.8182\n",
      "Epoch 238/300\n",
      "8/8 [==============================] - 0s 2ms/step - loss: 0.4452 - accuracy: 0.8058\n",
      "Epoch 239/300\n",
      "8/8 [==============================] - 0s 2ms/step - loss: 0.4412 - accuracy: 0.8099\n",
      "Epoch 240/300\n",
      "8/8 [==============================] - 0s 2ms/step - loss: 0.4396 - accuracy: 0.8223\n",
      "Epoch 241/300\n",
      "8/8 [==============================] - 0s 2ms/step - loss: 0.4451 - accuracy: 0.8058\n",
      "Epoch 242/300\n",
      "8/8 [==============================] - 0s 2ms/step - loss: 0.4379 - accuracy: 0.8182\n",
      "Epoch 243/300\n",
      "8/8 [==============================] - 0s 2ms/step - loss: 0.4400 - accuracy: 0.8140\n",
      "Epoch 244/300\n",
      "8/8 [==============================] - 0s 2ms/step - loss: 0.4389 - accuracy: 0.8223\n",
      "Epoch 245/300\n",
      "8/8 [==============================] - 0s 2ms/step - loss: 0.4359 - accuracy: 0.8223\n",
      "Epoch 246/300\n",
      "8/8 [==============================] - 0s 0s/step - loss: 0.4369 - accuracy: 0.8140\n",
      "Epoch 247/300\n",
      "8/8 [==============================] - 0s 0s/step - loss: 0.4390 - accuracy: 0.8140\n",
      "Epoch 248/300\n",
      "8/8 [==============================] - 0s 0s/step - loss: 0.4345 - accuracy: 0.8264\n",
      "Epoch 249/300\n",
      "8/8 [==============================] - 0s 0s/step - loss: 0.4403 - accuracy: 0.8058\n",
      "Epoch 250/300\n",
      "8/8 [==============================] - 0s 2ms/step - loss: 0.4417 - accuracy: 0.8058\n",
      "Epoch 251/300\n",
      "8/8 [==============================] - 0s 2ms/step - loss: 0.4347 - accuracy: 0.8182\n",
      "Epoch 252/300\n",
      "8/8 [==============================] - 0s 2ms/step - loss: 0.4366 - accuracy: 0.8099\n",
      "Epoch 253/300\n",
      "8/8 [==============================] - 0s 2ms/step - loss: 0.4332 - accuracy: 0.8223\n",
      "Epoch 254/300\n",
      "8/8 [==============================] - 0s 2ms/step - loss: 0.4336 - accuracy: 0.8223\n",
      "Epoch 255/300\n",
      "8/8 [==============================] - 0s 2ms/step - loss: 0.4327 - accuracy: 0.8140\n",
      "Epoch 256/300\n",
      "8/8 [==============================] - 0s 2ms/step - loss: 0.4326 - accuracy: 0.8140\n",
      "Epoch 257/300\n",
      "8/8 [==============================] - 0s 2ms/step - loss: 0.4319 - accuracy: 0.8264\n",
      "Epoch 258/300\n",
      "8/8 [==============================] - 0s 2ms/step - loss: 0.4335 - accuracy: 0.8264\n",
      "Epoch 259/300\n",
      "8/8 [==============================] - 0s 0s/step - loss: 0.4386 - accuracy: 0.8140\n",
      "Epoch 260/300\n",
      "8/8 [==============================] - 0s 0s/step - loss: 0.4310 - accuracy: 0.8223\n",
      "Epoch 261/300\n",
      "8/8 [==============================] - 0s 0s/step - loss: 0.4299 - accuracy: 0.8140\n",
      "Epoch 262/300\n",
      "8/8 [==============================] - 0s 0s/step - loss: 0.4294 - accuracy: 0.8264\n",
      "Epoch 263/300\n",
      "8/8 [==============================] - 0s 3ms/step - loss: 0.4331 - accuracy: 0.8099\n",
      "Epoch 264/300\n",
      "8/8 [==============================] - 0s 2ms/step - loss: 0.4299 - accuracy: 0.8347\n",
      "Epoch 265/300\n",
      "8/8 [==============================] - 0s 2ms/step - loss: 0.4280 - accuracy: 0.8306\n",
      "Epoch 266/300\n",
      "8/8 [==============================] - 0s 0s/step - loss: 0.4294 - accuracy: 0.8140\n",
      "Epoch 267/300\n",
      "8/8 [==============================] - 0s 0s/step - loss: 0.4274 - accuracy: 0.8182\n",
      "Epoch 268/300\n",
      "8/8 [==============================] - 0s 0s/step - loss: 0.4271 - accuracy: 0.8306\n",
      "Epoch 269/300\n",
      "8/8 [==============================] - 0s 0s/step - loss: 0.4313 - accuracy: 0.8182\n",
      "Epoch 270/300\n",
      "8/8 [==============================] - 0s 0s/step - loss: 0.4303 - accuracy: 0.8099\n",
      "Epoch 271/300\n",
      "8/8 [==============================] - 0s 2ms/step - loss: 0.4276 - accuracy: 0.8182\n",
      "Epoch 272/300\n",
      "8/8 [==============================] - 0s 2ms/step - loss: 0.4255 - accuracy: 0.8223\n",
      "Epoch 273/300\n",
      "8/8 [==============================] - 0s 2ms/step - loss: 0.4273 - accuracy: 0.8099\n",
      "Epoch 274/300\n",
      "8/8 [==============================] - 0s 2ms/step - loss: 0.4247 - accuracy: 0.8264\n",
      "Epoch 275/300\n",
      "8/8 [==============================] - 0s 2ms/step - loss: 0.4292 - accuracy: 0.8306\n",
      "Epoch 276/300\n",
      "8/8 [==============================] - 0s 2ms/step - loss: 0.4271 - accuracy: 0.8182\n",
      "Epoch 277/300\n",
      "8/8 [==============================] - 0s 2ms/step - loss: 0.4221 - accuracy: 0.8306\n",
      "Epoch 278/300\n",
      "8/8 [==============================] - 0s 0s/step - loss: 0.4308 - accuracy: 0.8347\n",
      "Epoch 279/300\n",
      "8/8 [==============================] - 0s 0s/step - loss: 0.4240 - accuracy: 0.8264\n",
      "Epoch 280/300\n",
      "8/8 [==============================] - 0s 0s/step - loss: 0.4233 - accuracy: 0.8223\n",
      "Epoch 281/300\n",
      "8/8 [==============================] - 0s 0s/step - loss: 0.4284 - accuracy: 0.8223\n",
      "Epoch 282/300\n",
      "8/8 [==============================] - 0s 0s/step - loss: 0.4253 - accuracy: 0.8223\n",
      "Epoch 283/300\n",
      "8/8 [==============================] - 0s 2ms/step - loss: 0.4238 - accuracy: 0.8264\n",
      "Epoch 284/300\n",
      "8/8 [==============================] - 0s 2ms/step - loss: 0.4191 - accuracy: 0.8264\n",
      "Epoch 285/300\n",
      "8/8 [==============================] - 0s 2ms/step - loss: 0.4226 - accuracy: 0.8347\n",
      "Epoch 286/300\n",
      "8/8 [==============================] - 0s 2ms/step - loss: 0.4246 - accuracy: 0.8388\n",
      "Epoch 287/300\n",
      "8/8 [==============================] - 0s 2ms/step - loss: 0.4222 - accuracy: 0.8264\n",
      "Epoch 288/300\n",
      "8/8 [==============================] - 0s 2ms/step - loss: 0.4204 - accuracy: 0.8223\n",
      "Epoch 289/300\n",
      "8/8 [==============================] - 0s 2ms/step - loss: 0.4232 - accuracy: 0.8306\n",
      "Epoch 290/300\n",
      "8/8 [==============================] - 0s 2ms/step - loss: 0.4196 - accuracy: 0.8264\n",
      "Epoch 291/300\n",
      "8/8 [==============================] - 0s 0s/step - loss: 0.4224 - accuracy: 0.8140\n",
      "Epoch 292/300\n",
      "8/8 [==============================] - 0s 0s/step - loss: 0.4206 - accuracy: 0.8347\n",
      "Epoch 293/300\n",
      "8/8 [==============================] - 0s 0s/step - loss: 0.4175 - accuracy: 0.8306\n",
      "Epoch 294/300\n",
      "8/8 [==============================] - 0s 0s/step - loss: 0.4183 - accuracy: 0.8306\n",
      "Epoch 295/300\n",
      "8/8 [==============================] - 0s 0s/step - loss: 0.4176 - accuracy: 0.8306\n",
      "Epoch 296/300\n",
      "8/8 [==============================] - 0s 2ms/step - loss: 0.4174 - accuracy: 0.8306\n",
      "Epoch 297/300\n",
      "8/8 [==============================] - 0s 2ms/step - loss: 0.4175 - accuracy: 0.8347\n",
      "Epoch 298/300\n",
      "8/8 [==============================] - 0s 4ms/step - loss: 0.4181 - accuracy: 0.8347\n",
      "Epoch 299/300\n",
      "8/8 [==============================] - 0s 1ms/step - loss: 0.4193 - accuracy: 0.8264\n",
      "Epoch 300/300\n",
      "8/8 [==============================] - 0s 0s/step - loss: 0.4157 - accuracy: 0.8264\n"
     ]
    },
    {
     "data": {
      "text/plain": [
       "<keras.callbacks.History at 0x1e3e8b05b80>"
      ]
     },
     "execution_count": 65,
     "metadata": {},
     "output_type": "execute_result"
    }
   ],
   "source": [
    "model.fit(X_train,Y_train,epochs=300)"
   ]
  },
  {
   "cell_type": "code",
   "execution_count": 66,
   "id": "ce13de11",
   "metadata": {},
   "outputs": [
    {
     "name": "stdout",
     "output_type": "stream",
     "text": [
      "2/2 [==============================] - 0s 0s/step\n"
     ]
    }
   ],
   "source": [
    "Y_pred_nn = model.predict(X_test)\n"
   ]
  },
  {
   "cell_type": "code",
   "execution_count": 67,
   "id": "85ed9771",
   "metadata": {},
   "outputs": [
    {
     "data": {
      "text/plain": [
       "(61, 1)"
      ]
     },
     "execution_count": 67,
     "metadata": {},
     "output_type": "execute_result"
    }
   ],
   "source": [
    "Y_pred_nn.shape\n"
   ]
  },
  {
   "cell_type": "code",
   "execution_count": 68,
   "id": "aa7771cf",
   "metadata": {},
   "outputs": [],
   "source": [
    "rounded = [round(x[0]) for x in Y_pred_nn]\n",
    "\n",
    "Y_pred_nn = rounded"
   ]
  },
  {
   "cell_type": "code",
   "execution_count": 69,
   "id": "203be778",
   "metadata": {},
   "outputs": [
    {
     "name": "stdout",
     "output_type": "stream",
     "text": [
      "The accuracy score achieved using Neural Network is: 81.97 %\n"
     ]
    }
   ],
   "source": [
    "score_nn = round(accuracy_score(Y_pred_nn,Y_test)*100,2)\n",
    "\n",
    "print(\"The accuracy score achieved using Neural Network is: \"+str(score_nn)+\" %\")"
   ]
  },
  {
   "cell_type": "code",
   "execution_count": 70,
   "id": "fc584e79",
   "metadata": {},
   "outputs": [
    {
     "name": "stdout",
     "output_type": "stream",
     "text": [
      "The accuracy score achieved using Logistic Regression is: 85.25 %\n",
      "The accuracy score achieved using Naive Bayes is: 85.25 %\n",
      "The accuracy score achieved using Support Vector Machine is: 81.97 %\n",
      "The accuracy score achieved using K-Nearest Neighbors is: 67.21 %\n",
      "The accuracy score achieved using Decision Tree is: 81.97 %\n",
      "The accuracy score achieved using Random Forest is: 90.16 %\n",
      "The accuracy score achieved using XGBoost is: 78.69 %\n",
      "The accuracy score achieved using Neural Network is: 81.97 %\n"
     ]
    }
   ],
   "source": [
    "scores = [score_lr,score_nb,score_svm,score_knn,score_dt,score_rf,score_xgb,score_nn]\n",
    "algorithms = [\"Logistic Regression\",\"Naive Bayes\",\"Support Vector Machine\",\"K-Nearest Neighbors\",\"Decision Tree\",\"Random Forest\",\"XGBoost\",\"Neural Network\"]    \n",
    "\n",
    "for i in range(len(algorithms)):\n",
    "    print(\"The accuracy score achieved using \"+algorithms[i]+\" is: \"+str(scores[i])+\" %\")"
   ]
  },
  {
   "cell_type": "code",
   "execution_count": 71,
   "id": "0a058d3c",
   "metadata": {},
   "outputs": [
    {
     "data": {
      "text/plain": [
       "<AxesSubplot:xlabel='Algorithms', ylabel='Accuracy score'>"
      ]
     },
     "execution_count": 71,
     "metadata": {},
     "output_type": "execute_result"
    },
    {
     "data": {
      "image/png": "[encoded data removed]",
      "text/plain": [
       "<Figure size 1500x800 with 1 Axes>"
      ]
     },
     "metadata": {},
     "output_type": "display_data"
    }
   ],
   "source": [
    "sns.set(rc={'figure.figsize':(15,8)})\n",
    "plt.xlabel(\"Algorithms\")\n",
    "plt.ylabel(\"Accuracy score\")\n",
    "\n",
    "sns.barplot(algorithms,scores)"
   ]
  },
  {
   "cell_type": "code",
   "execution_count": null,
   "id": "7ec180d3",
   "metadata": {},
   "outputs": [],
   "source": []
  }
 ],
 "metadata": {
  "kernelspec": {
   "display_name": "Python 3 (ipykernel)",
   "language": "python",
   "name": "python3"
  },
  "language_info": {
   "codemirror_mode": {
    "name": "ipython",
    "version": 3
   },
   "file_extension": ".py",
   "mimetype": "text/x-python",
   "name": "python",
   "nbconvert_exporter": "python",
   "pygments_lexer": "ipython3",
   "version": "3.9.13"
  }
 },
 "nbformat": 4,
 "nbformat_minor": 5
}
